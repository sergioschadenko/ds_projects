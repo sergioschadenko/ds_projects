{
  "cells": [
    {
      "cell_type": "markdown",
      "id": "42289889-bd57-434e-9637-d3e354756316",
      "metadata": {
        "id": "42289889-bd57-434e-9637-d3e354756316"
      },
      "source": [
        "<center> <img src = https://raw.githubusercontent.com/AndreyRysistov/DatasetsForPandas/main/hh%20label.jpg alt=\"drawing\" style=\"width:400px;\">"
      ]
    },
    {
      "cell_type": "markdown",
      "id": "829cb75b-f14e-4ba8-9195-7ba929a7d656",
      "metadata": {
        "id": "829cb75b-f14e-4ba8-9195-7ba929a7d656",
        "tags": []
      },
      "source": [
        "# <center> Проект: Анализ вакансий из HeadHunter\n",
        "   "
      ]
    },
    {
      "cell_type": "code",
      "execution_count": 3,
      "id": "dccfde33-2452-43fb-a8a5-5c6ebc02a71d",
      "metadata": {
        "id": "dccfde33-2452-43fb-a8a5-5c6ebc02a71d"
      },
      "outputs": [],
      "source": [
        "import pandas as pd\n",
        "import psycopg2\n",
        "import requests\n",
        "from bs4 import BeautifulSoup"
      ]
    },
    {
      "cell_type": "code",
      "execution_count": 4,
      "id": "oVKH4ehvf8Ay",
      "metadata": {
        "id": "oVKH4ehvf8Ay"
      },
      "outputs": [],
      "source": [
        "connection = psycopg2.connect(\n",
        "    dbname='project_sql',\n",
        "    user='skillfactory',\n",
        "    host='84.201.134.129',\n",
        "    password='cCkxxLVrDE8EbvjueeMedPKt',\n",
        "    port=5432\n",
        ")"
      ]
    },
    {
      "cell_type": "markdown",
      "id": "0dc6476b-7a00-44f1-ac93-6e3baed33a29",
      "metadata": {
        "id": "0dc6476b-7a00-44f1-ac93-6e3baed33a29"
      },
      "source": [
        "# Юнит 3. Предварительный анализ данных"
      ]
    },
    {
      "cell_type": "markdown",
      "id": "889782b6-8d1c-410e-8920-e57f27917c64",
      "metadata": {
        "id": "889782b6-8d1c-410e-8920-e57f27917c64"
      },
      "source": [
        "1. Напишите запрос, который посчитает количество вакансий в нашей базе (вакансии находятся в таблице vacancies). "
      ]
    },
    {
      "cell_type": "code",
      "execution_count": 5,
      "id": "bc39e68e-ed02-4ee2-9235-7258a2f867a8",
      "metadata": {
        "id": "bc39e68e-ed02-4ee2-9235-7258a2f867a8"
      },
      "outputs": [],
      "source": [
        "query_3_1 = f'''select \n",
        "                    count(*) as vacancies_count\n",
        "                from \n",
        "                    public.vacancies\n",
        "'''"
      ]
    },
    {
      "cell_type": "code",
      "execution_count": 6,
      "id": "7mAwtsk4hEHY",
      "metadata": {
        "id": "7mAwtsk4hEHY"
      },
      "outputs": [
        {
          "name": "stderr",
          "output_type": "stream",
          "text": [
            "C:\\Users\\Люля\\AppData\\Local\\Temp\\ipykernel_260\\1467523473.py:1: UserWarning: pandas only supports SQLAlchemy connectable (engine/connection) or database string URI or sqlite3 DBAPI2 connection. Other DBAPI2 objects are not tested. Please consider using SQLAlchemy.\n",
            "  pd.read_sql_query(query_3_1, connection)\n"
          ]
        },
        {
          "data": {
            "text/html": [
              "<div>\n",
              "<style scoped>\n",
              "    .dataframe tbody tr th:only-of-type {\n",
              "        vertical-align: middle;\n",
              "    }\n",
              "\n",
              "    .dataframe tbody tr th {\n",
              "        vertical-align: top;\n",
              "    }\n",
              "\n",
              "    .dataframe thead th {\n",
              "        text-align: right;\n",
              "    }\n",
              "</style>\n",
              "<table border=\"1\" class=\"dataframe\">\n",
              "  <thead>\n",
              "    <tr style=\"text-align: right;\">\n",
              "      <th></th>\n",
              "      <th>vacancies_count</th>\n",
              "    </tr>\n",
              "  </thead>\n",
              "  <tbody>\n",
              "    <tr>\n",
              "      <th>0</th>\n",
              "      <td>49197</td>\n",
              "    </tr>\n",
              "  </tbody>\n",
              "</table>\n",
              "</div>"
            ],
            "text/plain": [
              "   vacancies_count\n",
              "0            49197"
            ]
          },
          "execution_count": 6,
          "metadata": {},
          "output_type": "execute_result"
        }
      ],
      "source": [
        "pd.read_sql_query(query_3_1, connection)"
      ]
    },
    {
      "cell_type": "markdown",
      "id": "b583485d-1f9e-494e-ada4-80ffff7c53d6",
      "metadata": {
        "id": "b583485d-1f9e-494e-ada4-80ffff7c53d6"
      },
      "source": [
        "2. Напишите запрос, который посчитает количество работодателей (таблица employers). "
      ]
    },
    {
      "cell_type": "code",
      "execution_count": 7,
      "id": "5408c52c-3407-4a63-b25b-1aafa2322d28",
      "metadata": {
        "id": "5408c52c-3407-4a63-b25b-1aafa2322d28"
      },
      "outputs": [],
      "source": [
        "query_3_2 = f'''select \n",
        "                    count(*) as employers_count\n",
        "                from \n",
        "                    public.employers\n",
        "'''"
      ]
    },
    {
      "cell_type": "code",
      "execution_count": 8,
      "id": "jVL4eshKhdqc",
      "metadata": {
        "id": "jVL4eshKhdqc"
      },
      "outputs": [
        {
          "name": "stderr",
          "output_type": "stream",
          "text": [
            "C:\\Users\\Люля\\AppData\\Local\\Temp\\ipykernel_260\\1321910889.py:1: UserWarning: pandas only supports SQLAlchemy connectable (engine/connection) or database string URI or sqlite3 DBAPI2 connection. Other DBAPI2 objects are not tested. Please consider using SQLAlchemy.\n",
            "  pd.read_sql_query(query_3_2, connection)\n"
          ]
        },
        {
          "data": {
            "text/html": [
              "<div>\n",
              "<style scoped>\n",
              "    .dataframe tbody tr th:only-of-type {\n",
              "        vertical-align: middle;\n",
              "    }\n",
              "\n",
              "    .dataframe tbody tr th {\n",
              "        vertical-align: top;\n",
              "    }\n",
              "\n",
              "    .dataframe thead th {\n",
              "        text-align: right;\n",
              "    }\n",
              "</style>\n",
              "<table border=\"1\" class=\"dataframe\">\n",
              "  <thead>\n",
              "    <tr style=\"text-align: right;\">\n",
              "      <th></th>\n",
              "      <th>employers_count</th>\n",
              "    </tr>\n",
              "  </thead>\n",
              "  <tbody>\n",
              "    <tr>\n",
              "      <th>0</th>\n",
              "      <td>23501</td>\n",
              "    </tr>\n",
              "  </tbody>\n",
              "</table>\n",
              "</div>"
            ],
            "text/plain": [
              "   employers_count\n",
              "0            23501"
            ]
          },
          "execution_count": 8,
          "metadata": {},
          "output_type": "execute_result"
        }
      ],
      "source": [
        "pd.read_sql_query(query_3_2, connection)"
      ]
    },
    {
      "cell_type": "markdown",
      "id": "a2bfff1f-c975-4bf6-84be-2185d79dcb76",
      "metadata": {
        "id": "a2bfff1f-c975-4bf6-84be-2185d79dcb76"
      },
      "source": [
        "3. Посчитате с помощью запроса количество регионов (таблица areas)."
      ]
    },
    {
      "cell_type": "code",
      "execution_count": 9,
      "id": "1m8QJwBYhey6",
      "metadata": {
        "id": "1m8QJwBYhey6"
      },
      "outputs": [],
      "source": [
        "query_3_3 = f'''select \n",
        "                    count(*) as areas_count\n",
        "                from \n",
        "                    public.areas\n",
        "'''"
      ]
    },
    {
      "cell_type": "code",
      "execution_count": 10,
      "id": "EZsn9tlfhe7f",
      "metadata": {
        "id": "EZsn9tlfhe7f"
      },
      "outputs": [
        {
          "name": "stderr",
          "output_type": "stream",
          "text": [
            "C:\\Users\\Люля\\AppData\\Local\\Temp\\ipykernel_260\\169222152.py:1: UserWarning: pandas only supports SQLAlchemy connectable (engine/connection) or database string URI or sqlite3 DBAPI2 connection. Other DBAPI2 objects are not tested. Please consider using SQLAlchemy.\n",
            "  pd.read_sql_query(query_3_3, connection)\n"
          ]
        },
        {
          "data": {
            "text/html": [
              "<div>\n",
              "<style scoped>\n",
              "    .dataframe tbody tr th:only-of-type {\n",
              "        vertical-align: middle;\n",
              "    }\n",
              "\n",
              "    .dataframe tbody tr th {\n",
              "        vertical-align: top;\n",
              "    }\n",
              "\n",
              "    .dataframe thead th {\n",
              "        text-align: right;\n",
              "    }\n",
              "</style>\n",
              "<table border=\"1\" class=\"dataframe\">\n",
              "  <thead>\n",
              "    <tr style=\"text-align: right;\">\n",
              "      <th></th>\n",
              "      <th>areas_count</th>\n",
              "    </tr>\n",
              "  </thead>\n",
              "  <tbody>\n",
              "    <tr>\n",
              "      <th>0</th>\n",
              "      <td>1362</td>\n",
              "    </tr>\n",
              "  </tbody>\n",
              "</table>\n",
              "</div>"
            ],
            "text/plain": [
              "   areas_count\n",
              "0         1362"
            ]
          },
          "execution_count": 10,
          "metadata": {},
          "output_type": "execute_result"
        }
      ],
      "source": [
        "pd.read_sql_query(query_3_3, connection)"
      ]
    },
    {
      "cell_type": "markdown",
      "id": "41bb59f3-53cc-4a67-a5bc-bedf573955e4",
      "metadata": {
        "id": "41bb59f3-53cc-4a67-a5bc-bedf573955e4"
      },
      "source": [
        "4. Посчитате с помощью запроса количество сфер деятельности в базе (таблица industries)."
      ]
    },
    {
      "cell_type": "code",
      "execution_count": 11,
      "id": "d286cf4c-707b-4cd2-9190-7ab3587d04a1",
      "metadata": {
        "id": "d286cf4c-707b-4cd2-9190-7ab3587d04a1"
      },
      "outputs": [],
      "source": [
        "query_3_4 = f'''select \n",
        "                    count(*) as industries_count\n",
        "                from \n",
        "                    public.industries\n",
        "'''"
      ]
    },
    {
      "cell_type": "code",
      "execution_count": 12,
      "id": "JYAaoZ4qhfzW",
      "metadata": {
        "id": "JYAaoZ4qhfzW"
      },
      "outputs": [
        {
          "name": "stderr",
          "output_type": "stream",
          "text": [
            "C:\\Users\\Люля\\AppData\\Local\\Temp\\ipykernel_260\\2934468070.py:1: UserWarning: pandas only supports SQLAlchemy connectable (engine/connection) or database string URI or sqlite3 DBAPI2 connection. Other DBAPI2 objects are not tested. Please consider using SQLAlchemy.\n",
            "  pd.read_sql_query(query_3_4, connection)\n"
          ]
        },
        {
          "data": {
            "text/html": [
              "<div>\n",
              "<style scoped>\n",
              "    .dataframe tbody tr th:only-of-type {\n",
              "        vertical-align: middle;\n",
              "    }\n",
              "\n",
              "    .dataframe tbody tr th {\n",
              "        vertical-align: top;\n",
              "    }\n",
              "\n",
              "    .dataframe thead th {\n",
              "        text-align: right;\n",
              "    }\n",
              "</style>\n",
              "<table border=\"1\" class=\"dataframe\">\n",
              "  <thead>\n",
              "    <tr style=\"text-align: right;\">\n",
              "      <th></th>\n",
              "      <th>industries_count</th>\n",
              "    </tr>\n",
              "  </thead>\n",
              "  <tbody>\n",
              "    <tr>\n",
              "      <th>0</th>\n",
              "      <td>294</td>\n",
              "    </tr>\n",
              "  </tbody>\n",
              "</table>\n",
              "</div>"
            ],
            "text/plain": [
              "   industries_count\n",
              "0               294"
            ]
          },
          "execution_count": 12,
          "metadata": {},
          "output_type": "execute_result"
        }
      ],
      "source": [
        "pd.read_sql_query(query_3_4, connection)"
      ]
    },
    {
      "cell_type": "markdown",
      "id": "9a8a2181-6914-448b-85f1-38f5f18b8a93",
      "metadata": {
        "id": "9a8a2181-6914-448b-85f1-38f5f18b8a93"
      },
      "source": [
        "***"
      ]
    },
    {
      "cell_type": "code",
      "execution_count": 13,
      "id": "b295ed10",
      "metadata": {},
      "outputs": [],
      "source": [
        "#Составлен запрос, который показывает, какое количество работодателей, регионов и сфер деятельности\n",
        "#соотносят с вакансиями, имеющимися в базе данных. Запрос позволит понять,\n",
        "#какая доля работодателей, регионов и сфер деятельности не связаны с имеющимися вакансиями.\n",
        "query_3_add_1 = f'''select \n",
        "                        count(distinct a.id) as areas_with_vacancies,\n",
        "                        count(distinct e.id) as employers_with_vacancies,\n",
        "                        count(distinct ei.industry_id) as industries_with_vacancies\n",
        "                    from \n",
        "                        public.vacancies as v\n",
        "                    join \n",
        "                        public.areas as a on v.area_id = a.id\n",
        "                    join\n",
        "                        public.employers as e on v.employer_id = e.id\n",
        "                    join\n",
        "                        public.employers_industries as ei on e.id = ei.employer_id\n",
        "'''"
      ]
    },
    {
      "cell_type": "code",
      "execution_count": 14,
      "id": "b50ab8fd",
      "metadata": {},
      "outputs": [
        {
          "name": "stderr",
          "output_type": "stream",
          "text": [
            "C:\\Users\\Люля\\AppData\\Local\\Temp\\ipykernel_260\\545387563.py:1: UserWarning: pandas only supports SQLAlchemy connectable (engine/connection) or database string URI or sqlite3 DBAPI2 connection. Other DBAPI2 objects are not tested. Please consider using SQLAlchemy.\n",
            "  pd.read_sql_query(query_3_add_1, connection)\n"
          ]
        },
        {
          "data": {
            "text/html": [
              "<div>\n",
              "<style scoped>\n",
              "    .dataframe tbody tr th:only-of-type {\n",
              "        vertical-align: middle;\n",
              "    }\n",
              "\n",
              "    .dataframe tbody tr th {\n",
              "        vertical-align: top;\n",
              "    }\n",
              "\n",
              "    .dataframe thead th {\n",
              "        text-align: right;\n",
              "    }\n",
              "</style>\n",
              "<table border=\"1\" class=\"dataframe\">\n",
              "  <thead>\n",
              "    <tr style=\"text-align: right;\">\n",
              "      <th></th>\n",
              "      <th>areas_with_vacancies</th>\n",
              "      <th>employers_with_vacancies</th>\n",
              "      <th>industries_with_vacancies</th>\n",
              "    </tr>\n",
              "  </thead>\n",
              "  <tbody>\n",
              "    <tr>\n",
              "      <th>0</th>\n",
              "      <td>711</td>\n",
              "      <td>9947</td>\n",
              "      <td>293</td>\n",
              "    </tr>\n",
              "  </tbody>\n",
              "</table>\n",
              "</div>"
            ],
            "text/plain": [
              "   areas_with_vacancies  employers_with_vacancies  industries_with_vacancies\n",
              "0                   711                      9947                        293"
            ]
          },
          "execution_count": 14,
          "metadata": {},
          "output_type": "execute_result"
        }
      ],
      "source": [
        "pd.read_sql_query(query_3_add_1, connection)"
      ]
    },
    {
      "cell_type": "code",
      "execution_count": 12,
      "id": "be4e9bd3-a4db-4a20-82fb-6b02fc2957e0",
      "metadata": {
        "id": "be4e9bd3-a4db-4a20-82fb-6b02fc2957e0"
      },
      "outputs": [],
      "source": [
        "#В нашем распоряжении база данных, которая содержит в общей сложности 49 197 вакансий. \n",
        "#В нашей базе данных также есть информация относительно 23 501 потенциальном работодателе, \n",
        "#1 362 регионе и 294 сферах деятельности. При этом вакансии в базе данных представлены только\n",
        "#в отношении 9 947 работодателей и 771 регионов. Вакансии имеются во всех сферах деятельности за исключением одной."
      ]
    },
    {
      "cell_type": "markdown",
      "id": "8d62a9f3-f64e-4fe7-bdac-c4dffa16155e",
      "metadata": {
        "id": "8d62a9f3-f64e-4fe7-bdac-c4dffa16155e"
      },
      "source": [
        "# Юнит 4. Детальный анализ вакансий"
      ]
    },
    {
      "cell_type": "markdown",
      "id": "93053d3d-b284-481a-9cf7-012d7014c0e0",
      "metadata": {
        "id": "93053d3d-b284-481a-9cf7-012d7014c0e0"
      },
      "source": [
        "1. Напишите запрос, который позволит узнать, сколько (cnt) вакансий в каждом регионе (area).\n",
        "Отсортируйте по количеству вакансий в порядке убывания."
      ]
    },
    {
      "cell_type": "code",
      "execution_count": 15,
      "id": "3f069da6-fdc9-4ae7-b514-fafe2675efd3",
      "metadata": {
        "id": "3f069da6-fdc9-4ae7-b514-fafe2675efd3"
      },
      "outputs": [],
      "source": [
        "#Для формирования запроса объединены таблицы с данными о вакансиях и регионах.\n",
        "#Данные сгруиированы по названию регионов.\n",
        "n = 5\n",
        "query_4_1 = f'''select \n",
        "                    a.name as area,\n",
        "                    count(v.id) as vacancies_count\n",
        "                from \n",
        "                    public.vacancies as v\n",
        "                join \n",
        "                    public.areas as a on v.area_id = a.id\n",
        "                group by \n",
        "                    a.name\n",
        "                order by \n",
        "                    count(v.id) desc\n",
        "                limit {n}\n",
        "'''"
      ]
    },
    {
      "cell_type": "code",
      "execution_count": 16,
      "id": "P7QL86hrjhRJ",
      "metadata": {
        "id": "P7QL86hrjhRJ"
      },
      "outputs": [
        {
          "name": "stderr",
          "output_type": "stream",
          "text": [
            "C:\\Users\\Люля\\AppData\\Local\\Temp\\ipykernel_260\\1702194938.py:1: UserWarning: pandas only supports SQLAlchemy connectable (engine/connection) or database string URI or sqlite3 DBAPI2 connection. Other DBAPI2 objects are not tested. Please consider using SQLAlchemy.\n",
            "  pd.read_sql_query(query_4_1, connection)\n"
          ]
        },
        {
          "data": {
            "text/html": [
              "<div>\n",
              "<style scoped>\n",
              "    .dataframe tbody tr th:only-of-type {\n",
              "        vertical-align: middle;\n",
              "    }\n",
              "\n",
              "    .dataframe tbody tr th {\n",
              "        vertical-align: top;\n",
              "    }\n",
              "\n",
              "    .dataframe thead th {\n",
              "        text-align: right;\n",
              "    }\n",
              "</style>\n",
              "<table border=\"1\" class=\"dataframe\">\n",
              "  <thead>\n",
              "    <tr style=\"text-align: right;\">\n",
              "      <th></th>\n",
              "      <th>area</th>\n",
              "      <th>vacancies_count</th>\n",
              "    </tr>\n",
              "  </thead>\n",
              "  <tbody>\n",
              "    <tr>\n",
              "      <th>0</th>\n",
              "      <td>Москва</td>\n",
              "      <td>5333</td>\n",
              "    </tr>\n",
              "    <tr>\n",
              "      <th>1</th>\n",
              "      <td>Санкт-Петербург</td>\n",
              "      <td>2851</td>\n",
              "    </tr>\n",
              "    <tr>\n",
              "      <th>2</th>\n",
              "      <td>Минск</td>\n",
              "      <td>2112</td>\n",
              "    </tr>\n",
              "    <tr>\n",
              "      <th>3</th>\n",
              "      <td>Новосибирск</td>\n",
              "      <td>2006</td>\n",
              "    </tr>\n",
              "    <tr>\n",
              "      <th>4</th>\n",
              "      <td>Алматы</td>\n",
              "      <td>1892</td>\n",
              "    </tr>\n",
              "  </tbody>\n",
              "</table>\n",
              "</div>"
            ],
            "text/plain": [
              "              area  vacancies_count\n",
              "0           Москва             5333\n",
              "1  Санкт-Петербург             2851\n",
              "2            Минск             2112\n",
              "3      Новосибирск             2006\n",
              "4           Алматы             1892"
            ]
          },
          "execution_count": 16,
          "metadata": {},
          "output_type": "execute_result"
        }
      ],
      "source": [
        "pd.read_sql_query(query_4_1, connection)"
      ]
    },
    {
      "cell_type": "markdown",
      "id": "4266f0b6-1646-492a-88b4-2f6a46502135",
      "metadata": {
        "id": "4266f0b6-1646-492a-88b4-2f6a46502135"
      },
      "source": [
        "2. Напишите запрос, чтобы определить у какого количества вакансий заполнено хотя бы одно из двух полей с зарплатой."
      ]
    },
    {
      "cell_type": "code",
      "execution_count": 17,
      "id": "0c44b350-72eb-4d65-8b54-a1fc449ba9fd",
      "metadata": {
        "id": "0c44b350-72eb-4d65-8b54-a1fc449ba9fd"
      },
      "outputs": [],
      "source": [
        "#Для формирования запроса данные отфильтрованы по наличию сведений о зарплате в описании вакансий.\n",
        "query_4_2 = f'''select \n",
        "                    count(*) as vacancies_with_salary\n",
        "                from \n",
        "                    public.vacancies\n",
        "                where\n",
        "                    salary_from is not null \n",
        "                    or salary_to is not null      \n",
        "'''"
      ]
    },
    {
      "cell_type": "code",
      "execution_count": 18,
      "id": "rhvwaMDkoWTi",
      "metadata": {
        "id": "rhvwaMDkoWTi"
      },
      "outputs": [
        {
          "name": "stderr",
          "output_type": "stream",
          "text": [
            "C:\\Users\\Люля\\AppData\\Local\\Temp\\ipykernel_260\\495373726.py:1: UserWarning: pandas only supports SQLAlchemy connectable (engine/connection) or database string URI or sqlite3 DBAPI2 connection. Other DBAPI2 objects are not tested. Please consider using SQLAlchemy.\n",
            "  pd.read_sql_query(query_4_2, connection)\n"
          ]
        },
        {
          "data": {
            "text/html": [
              "<div>\n",
              "<style scoped>\n",
              "    .dataframe tbody tr th:only-of-type {\n",
              "        vertical-align: middle;\n",
              "    }\n",
              "\n",
              "    .dataframe tbody tr th {\n",
              "        vertical-align: top;\n",
              "    }\n",
              "\n",
              "    .dataframe thead th {\n",
              "        text-align: right;\n",
              "    }\n",
              "</style>\n",
              "<table border=\"1\" class=\"dataframe\">\n",
              "  <thead>\n",
              "    <tr style=\"text-align: right;\">\n",
              "      <th></th>\n",
              "      <th>vacancies_with_salary</th>\n",
              "    </tr>\n",
              "  </thead>\n",
              "  <tbody>\n",
              "    <tr>\n",
              "      <th>0</th>\n",
              "      <td>24073</td>\n",
              "    </tr>\n",
              "  </tbody>\n",
              "</table>\n",
              "</div>"
            ],
            "text/plain": [
              "   vacancies_with_salary\n",
              "0                  24073"
            ]
          },
          "execution_count": 18,
          "metadata": {},
          "output_type": "execute_result"
        }
      ],
      "source": [
        "pd.read_sql_query(query_4_2, connection)"
      ]
    },
    {
      "cell_type": "markdown",
      "id": "635c4d5d-f323-4c66-b428-50a088120aa0",
      "metadata": {
        "id": "635c4d5d-f323-4c66-b428-50a088120aa0"
      },
      "source": [
        "3. Найдите средние значения для нижней и верхней границы зарплатной вилки. Округлите значения до целого."
      ]
    },
    {
      "cell_type": "code",
      "execution_count": 19,
      "id": "603cdbe4-0ec3-4106-8eaf-c73fcdd29165",
      "metadata": {
        "id": "603cdbe4-0ec3-4106-8eaf-c73fcdd29165"
      },
      "outputs": [],
      "source": [
        "query_4_3 = f'''select \n",
        "                    round(avg(salary_from)) as avg_salary_min,\n",
        "                    round(avg(salary_to)) as avg_salary_max\n",
        "                from \n",
        "                    public.vacancies    \n",
        "'''"
      ]
    },
    {
      "cell_type": "code",
      "execution_count": 20,
      "id": "pswpAb66ovZZ",
      "metadata": {
        "id": "pswpAb66ovZZ"
      },
      "outputs": [
        {
          "name": "stderr",
          "output_type": "stream",
          "text": [
            "C:\\Users\\Люля\\AppData\\Local\\Temp\\ipykernel_260\\3534961570.py:2: UserWarning: pandas only supports SQLAlchemy connectable (engine/connection) or database string URI or sqlite3 DBAPI2 connection. Other DBAPI2 objects are not tested. Please consider using SQLAlchemy.\n",
            "  pd.read_sql_query(query_4_3, connection)\n"
          ]
        },
        {
          "data": {
            "text/html": [
              "<div>\n",
              "<style scoped>\n",
              "    .dataframe tbody tr th:only-of-type {\n",
              "        vertical-align: middle;\n",
              "    }\n",
              "\n",
              "    .dataframe tbody tr th {\n",
              "        vertical-align: top;\n",
              "    }\n",
              "\n",
              "    .dataframe thead th {\n",
              "        text-align: right;\n",
              "    }\n",
              "</style>\n",
              "<table border=\"1\" class=\"dataframe\">\n",
              "  <thead>\n",
              "    <tr style=\"text-align: right;\">\n",
              "      <th></th>\n",
              "      <th>avg_salary_min</th>\n",
              "      <th>avg_salary_max</th>\n",
              "    </tr>\n",
              "  </thead>\n",
              "  <tbody>\n",
              "    <tr>\n",
              "      <th>0</th>\n",
              "      <td>71065.0</td>\n",
              "      <td>110537.0</td>\n",
              "    </tr>\n",
              "  </tbody>\n",
              "</table>\n",
              "</div>"
            ],
            "text/plain": [
              "   avg_salary_min  avg_salary_max\n",
              "0         71065.0        110537.0"
            ]
          },
          "execution_count": 20,
          "metadata": {},
          "output_type": "execute_result"
        }
      ],
      "source": [
        "# результат запроса\n",
        "pd.read_sql_query(query_4_3, connection)"
      ]
    },
    {
      "cell_type": "markdown",
      "id": "f3fdaec9-5fd3-4260-9cf5-1d7406b628a5",
      "metadata": {
        "id": "f3fdaec9-5fd3-4260-9cf5-1d7406b628a5"
      },
      "source": [
        "4. Напишите запрос, который выведет количество вакансий для каждого сочетания типа рабочего графика (schedule) и типа трудоустройства (employment), используемого в вакансиях. Результат отсортируйте по убыванию количества.\n"
      ]
    },
    {
      "cell_type": "code",
      "execution_count": 21,
      "id": "1ea710ec-871b-431e-9462-c7d0fd87011b",
      "metadata": {
        "id": "1ea710ec-871b-431e-9462-c7d0fd87011b"
      },
      "outputs": [],
      "source": [
        "#Для формирования запроса данные сгруппированы по типу рабочего графика и типу трудойстройства.\n",
        "query_4_4 = f'''select \n",
        "                    schedule,\n",
        "                    employment,\n",
        "                    count(*) as vacancies_count\n",
        "                from \n",
        "                    public.vacancies\n",
        "                group by\n",
        "                    schedule, employment\n",
        "                order by count(*) desc\n",
        "'''"
      ]
    },
    {
      "cell_type": "code",
      "execution_count": 22,
      "id": "lGUVqavdo4JQ",
      "metadata": {
        "id": "lGUVqavdo4JQ"
      },
      "outputs": [
        {
          "name": "stderr",
          "output_type": "stream",
          "text": [
            "C:\\Users\\Люля\\AppData\\Local\\Temp\\ipykernel_260\\3130347181.py:1: UserWarning: pandas only supports SQLAlchemy connectable (engine/connection) or database string URI or sqlite3 DBAPI2 connection. Other DBAPI2 objects are not tested. Please consider using SQLAlchemy.\n",
            "  pd.read_sql_query(query_4_4, connection)\n"
          ]
        },
        {
          "data": {
            "text/html": [
              "<div>\n",
              "<style scoped>\n",
              "    .dataframe tbody tr th:only-of-type {\n",
              "        vertical-align: middle;\n",
              "    }\n",
              "\n",
              "    .dataframe tbody tr th {\n",
              "        vertical-align: top;\n",
              "    }\n",
              "\n",
              "    .dataframe thead th {\n",
              "        text-align: right;\n",
              "    }\n",
              "</style>\n",
              "<table border=\"1\" class=\"dataframe\">\n",
              "  <thead>\n",
              "    <tr style=\"text-align: right;\">\n",
              "      <th></th>\n",
              "      <th>schedule</th>\n",
              "      <th>employment</th>\n",
              "      <th>vacancies_count</th>\n",
              "    </tr>\n",
              "  </thead>\n",
              "  <tbody>\n",
              "    <tr>\n",
              "      <th>0</th>\n",
              "      <td>Полный день</td>\n",
              "      <td>Полная занятость</td>\n",
              "      <td>35367</td>\n",
              "    </tr>\n",
              "    <tr>\n",
              "      <th>1</th>\n",
              "      <td>Удаленная работа</td>\n",
              "      <td>Полная занятость</td>\n",
              "      <td>7802</td>\n",
              "    </tr>\n",
              "    <tr>\n",
              "      <th>2</th>\n",
              "      <td>Гибкий график</td>\n",
              "      <td>Полная занятость</td>\n",
              "      <td>1593</td>\n",
              "    </tr>\n",
              "    <tr>\n",
              "      <th>3</th>\n",
              "      <td>Удаленная работа</td>\n",
              "      <td>Частичная занятость</td>\n",
              "      <td>1312</td>\n",
              "    </tr>\n",
              "    <tr>\n",
              "      <th>4</th>\n",
              "      <td>Сменный график</td>\n",
              "      <td>Полная занятость</td>\n",
              "      <td>940</td>\n",
              "    </tr>\n",
              "    <tr>\n",
              "      <th>5</th>\n",
              "      <td>Полный день</td>\n",
              "      <td>Стажировка</td>\n",
              "      <td>569</td>\n",
              "    </tr>\n",
              "    <tr>\n",
              "      <th>6</th>\n",
              "      <td>Вахтовый метод</td>\n",
              "      <td>Полная занятость</td>\n",
              "      <td>367</td>\n",
              "    </tr>\n",
              "    <tr>\n",
              "      <th>7</th>\n",
              "      <td>Полный день</td>\n",
              "      <td>Частичная занятость</td>\n",
              "      <td>347</td>\n",
              "    </tr>\n",
              "    <tr>\n",
              "      <th>8</th>\n",
              "      <td>Гибкий график</td>\n",
              "      <td>Частичная занятость</td>\n",
              "      <td>312</td>\n",
              "    </tr>\n",
              "    <tr>\n",
              "      <th>9</th>\n",
              "      <td>Полный день</td>\n",
              "      <td>Проектная работа</td>\n",
              "      <td>141</td>\n",
              "    </tr>\n",
              "    <tr>\n",
              "      <th>10</th>\n",
              "      <td>Удаленная работа</td>\n",
              "      <td>Проектная работа</td>\n",
              "      <td>133</td>\n",
              "    </tr>\n",
              "    <tr>\n",
              "      <th>11</th>\n",
              "      <td>Гибкий график</td>\n",
              "      <td>Стажировка</td>\n",
              "      <td>116</td>\n",
              "    </tr>\n",
              "    <tr>\n",
              "      <th>12</th>\n",
              "      <td>Сменный график</td>\n",
              "      <td>Частичная занятость</td>\n",
              "      <td>101</td>\n",
              "    </tr>\n",
              "    <tr>\n",
              "      <th>13</th>\n",
              "      <td>Удаленная работа</td>\n",
              "      <td>Стажировка</td>\n",
              "      <td>64</td>\n",
              "    </tr>\n",
              "    <tr>\n",
              "      <th>14</th>\n",
              "      <td>Гибкий график</td>\n",
              "      <td>Проектная работа</td>\n",
              "      <td>18</td>\n",
              "    </tr>\n",
              "    <tr>\n",
              "      <th>15</th>\n",
              "      <td>Сменный график</td>\n",
              "      <td>Стажировка</td>\n",
              "      <td>12</td>\n",
              "    </tr>\n",
              "    <tr>\n",
              "      <th>16</th>\n",
              "      <td>Вахтовый метод</td>\n",
              "      <td>Проектная работа</td>\n",
              "      <td>2</td>\n",
              "    </tr>\n",
              "    <tr>\n",
              "      <th>17</th>\n",
              "      <td>Сменный график</td>\n",
              "      <td>Проектная работа</td>\n",
              "      <td>1</td>\n",
              "    </tr>\n",
              "  </tbody>\n",
              "</table>\n",
              "</div>"
            ],
            "text/plain": [
              "            schedule           employment  vacancies_count\n",
              "0        Полный день     Полная занятость            35367\n",
              "1   Удаленная работа     Полная занятость             7802\n",
              "2      Гибкий график     Полная занятость             1593\n",
              "3   Удаленная работа  Частичная занятость             1312\n",
              "4     Сменный график     Полная занятость              940\n",
              "5        Полный день           Стажировка              569\n",
              "6     Вахтовый метод     Полная занятость              367\n",
              "7        Полный день  Частичная занятость              347\n",
              "8      Гибкий график  Частичная занятость              312\n",
              "9        Полный день     Проектная работа              141\n",
              "10  Удаленная работа     Проектная работа              133\n",
              "11     Гибкий график           Стажировка              116\n",
              "12    Сменный график  Частичная занятость              101\n",
              "13  Удаленная работа           Стажировка               64\n",
              "14     Гибкий график     Проектная работа               18\n",
              "15    Сменный график           Стажировка               12\n",
              "16    Вахтовый метод     Проектная работа                2\n",
              "17    Сменный график     Проектная работа                1"
            ]
          },
          "execution_count": 22,
          "metadata": {},
          "output_type": "execute_result"
        }
      ],
      "source": [
        "pd.read_sql_query(query_4_4, connection)"
      ]
    },
    {
      "cell_type": "markdown",
      "id": "0136ffee-0ead-4a6b-b608-61d1c753a438",
      "metadata": {
        "id": "0136ffee-0ead-4a6b-b608-61d1c753a438"
      },
      "source": [
        "5. Напишите запрос, выводящий значения поля Требуемый опыт работы (experience) в порядке возрастания количества вакансий, в которых указан данный вариант опыта. "
      ]
    },
    {
      "cell_type": "code",
      "execution_count": 23,
      "id": "5b3a8e79-f7ab-4008-b767-12aea3a205ea",
      "metadata": {
        "id": "5b3a8e79-f7ab-4008-b767-12aea3a205ea"
      },
      "outputs": [],
      "source": [
        "#Для формирования запроса данные сгруппированы по требуемому опыту работу.\n",
        "query_4_5 = f'''select \n",
        "                    experience,\n",
        "                    count(*) as experience_count\n",
        "                from \n",
        "                    public.vacancies\n",
        "                group by\n",
        "                    experience\n",
        "                order by count(*) desc\n",
        "'''"
      ]
    },
    {
      "cell_type": "code",
      "execution_count": 24,
      "id": "3Is64Y-hpDpq",
      "metadata": {
        "id": "3Is64Y-hpDpq"
      },
      "outputs": [
        {
          "name": "stderr",
          "output_type": "stream",
          "text": [
            "C:\\Users\\Люля\\AppData\\Local\\Temp\\ipykernel_260\\3496489661.py:1: UserWarning: pandas only supports SQLAlchemy connectable (engine/connection) or database string URI or sqlite3 DBAPI2 connection. Other DBAPI2 objects are not tested. Please consider using SQLAlchemy.\n",
            "  pd.read_sql_query(query_4_5, connection)\n"
          ]
        },
        {
          "data": {
            "text/html": [
              "<div>\n",
              "<style scoped>\n",
              "    .dataframe tbody tr th:only-of-type {\n",
              "        vertical-align: middle;\n",
              "    }\n",
              "\n",
              "    .dataframe tbody tr th {\n",
              "        vertical-align: top;\n",
              "    }\n",
              "\n",
              "    .dataframe thead th {\n",
              "        text-align: right;\n",
              "    }\n",
              "</style>\n",
              "<table border=\"1\" class=\"dataframe\">\n",
              "  <thead>\n",
              "    <tr style=\"text-align: right;\">\n",
              "      <th></th>\n",
              "      <th>experience</th>\n",
              "      <th>experience_count</th>\n",
              "    </tr>\n",
              "  </thead>\n",
              "  <tbody>\n",
              "    <tr>\n",
              "      <th>0</th>\n",
              "      <td>От 1 года до 3 лет</td>\n",
              "      <td>26152</td>\n",
              "    </tr>\n",
              "    <tr>\n",
              "      <th>1</th>\n",
              "      <td>От 3 до 6 лет</td>\n",
              "      <td>14511</td>\n",
              "    </tr>\n",
              "    <tr>\n",
              "      <th>2</th>\n",
              "      <td>Нет опыта</td>\n",
              "      <td>7197</td>\n",
              "    </tr>\n",
              "    <tr>\n",
              "      <th>3</th>\n",
              "      <td>Более 6 лет</td>\n",
              "      <td>1337</td>\n",
              "    </tr>\n",
              "  </tbody>\n",
              "</table>\n",
              "</div>"
            ],
            "text/plain": [
              "           experience  experience_count\n",
              "0  От 1 года до 3 лет             26152\n",
              "1       От 3 до 6 лет             14511\n",
              "2           Нет опыта              7197\n",
              "3         Более 6 лет              1337"
            ]
          },
          "execution_count": 24,
          "metadata": {},
          "output_type": "execute_result"
        }
      ],
      "source": [
        "pd.read_sql_query(query_4_5, connection)"
      ]
    },
    {
      "cell_type": "markdown",
      "id": "oq2b7n1QpIka",
      "metadata": {
        "id": "oq2b7n1QpIka"
      },
      "source": [
        "***"
      ]
    },
    {
      "cell_type": "code",
      "execution_count": 25,
      "id": "58ae8f6f",
      "metadata": {},
      "outputs": [],
      "source": [
        "#Составлен запрос, позволяющий увидеть, как различаются среднее значение\n",
        "#нижней и верхней границы в зависимости от региона размещения вакансии.\n",
        "n = 10\n",
        "query_4_add_1 = f'''select \n",
        "                    a.name as area,\n",
        "                    round(avg(salary_from)) as avg_salary_min,\n",
        "                    round(avg(salary_to)) as avg_salary_max\n",
        "                from \n",
        "                    public.vacancies as v\n",
        "                join \n",
        "                    public.areas as a on v.area_id = a.id\n",
        "                group by \n",
        "                    a.name\n",
        "                order by \n",
        "                    count(v.id) desc\n",
        "                limit {n}\n",
        "'''"
      ]
    },
    {
      "cell_type": "code",
      "execution_count": 26,
      "id": "f627bf61",
      "metadata": {},
      "outputs": [
        {
          "name": "stderr",
          "output_type": "stream",
          "text": [
            "C:\\Users\\Люля\\AppData\\Local\\Temp\\ipykernel_260\\3817656583.py:1: UserWarning: pandas only supports SQLAlchemy connectable (engine/connection) or database string URI or sqlite3 DBAPI2 connection. Other DBAPI2 objects are not tested. Please consider using SQLAlchemy.\n",
            "  pd.read_sql_query(query_4_add_1, connection)\n"
          ]
        },
        {
          "data": {
            "text/html": [
              "<div>\n",
              "<style scoped>\n",
              "    .dataframe tbody tr th:only-of-type {\n",
              "        vertical-align: middle;\n",
              "    }\n",
              "\n",
              "    .dataframe tbody tr th {\n",
              "        vertical-align: top;\n",
              "    }\n",
              "\n",
              "    .dataframe thead th {\n",
              "        text-align: right;\n",
              "    }\n",
              "</style>\n",
              "<table border=\"1\" class=\"dataframe\">\n",
              "  <thead>\n",
              "    <tr style=\"text-align: right;\">\n",
              "      <th></th>\n",
              "      <th>area</th>\n",
              "      <th>avg_salary_min</th>\n",
              "      <th>avg_salary_max</th>\n",
              "    </tr>\n",
              "  </thead>\n",
              "  <tbody>\n",
              "    <tr>\n",
              "      <th>0</th>\n",
              "      <td>Москва</td>\n",
              "      <td>113409.0</td>\n",
              "      <td>160594.0</td>\n",
              "    </tr>\n",
              "    <tr>\n",
              "      <th>1</th>\n",
              "      <td>Санкт-Петербург</td>\n",
              "      <td>89892.0</td>\n",
              "      <td>127249.0</td>\n",
              "    </tr>\n",
              "    <tr>\n",
              "      <th>2</th>\n",
              "      <td>Минск</td>\n",
              "      <td>68040.0</td>\n",
              "      <td>133797.0</td>\n",
              "    </tr>\n",
              "    <tr>\n",
              "      <th>3</th>\n",
              "      <td>Новосибирск</td>\n",
              "      <td>91272.0</td>\n",
              "      <td>137573.0</td>\n",
              "    </tr>\n",
              "    <tr>\n",
              "      <th>4</th>\n",
              "      <td>Алматы</td>\n",
              "      <td>53498.0</td>\n",
              "      <td>96238.0</td>\n",
              "    </tr>\n",
              "    <tr>\n",
              "      <th>5</th>\n",
              "      <td>Екатеринбург</td>\n",
              "      <td>77489.0</td>\n",
              "      <td>120404.0</td>\n",
              "    </tr>\n",
              "    <tr>\n",
              "      <th>6</th>\n",
              "      <td>Нижний Новгород</td>\n",
              "      <td>83734.0</td>\n",
              "      <td>126921.0</td>\n",
              "    </tr>\n",
              "    <tr>\n",
              "      <th>7</th>\n",
              "      <td>Казань</td>\n",
              "      <td>76117.0</td>\n",
              "      <td>119942.0</td>\n",
              "    </tr>\n",
              "    <tr>\n",
              "      <th>8</th>\n",
              "      <td>Краснодар</td>\n",
              "      <td>78483.0</td>\n",
              "      <td>117144.0</td>\n",
              "    </tr>\n",
              "    <tr>\n",
              "      <th>9</th>\n",
              "      <td>Самара</td>\n",
              "      <td>67885.0</td>\n",
              "      <td>101157.0</td>\n",
              "    </tr>\n",
              "  </tbody>\n",
              "</table>\n",
              "</div>"
            ],
            "text/plain": [
              "              area  avg_salary_min  avg_salary_max\n",
              "0           Москва        113409.0        160594.0\n",
              "1  Санкт-Петербург         89892.0        127249.0\n",
              "2            Минск         68040.0        133797.0\n",
              "3      Новосибирск         91272.0        137573.0\n",
              "4           Алматы         53498.0         96238.0\n",
              "5     Екатеринбург         77489.0        120404.0\n",
              "6  Нижний Новгород         83734.0        126921.0\n",
              "7           Казань         76117.0        119942.0\n",
              "8        Краснодар         78483.0        117144.0\n",
              "9           Самара         67885.0        101157.0"
            ]
          },
          "execution_count": 26,
          "metadata": {},
          "output_type": "execute_result"
        }
      ],
      "source": [
        "pd.read_sql_query(query_4_add_1, connection)"
      ]
    },
    {
      "cell_type": "code",
      "execution_count": 39,
      "id": "7368c0e2",
      "metadata": {},
      "outputs": [],
      "source": [
        "#Составлен запрос, позволяющий увидеть, как различаются среднее значение\n",
        "#нижней и верхней границы в зависимости от требуемого опыта работы.\n",
        "query_4_add_2 = f'''select \n",
        "                    experience,\n",
        "                    round(avg(salary_from)) as avg_salary_min,\n",
        "                    round(avg(salary_to)) as avg_salary_max\n",
        "                from \n",
        "                    public.vacancies\n",
        "                group by\n",
        "                    experience\n",
        "                order by \n",
        "                    avg_salary_max desc, avg_salary_min desc\n",
        "'''"
      ]
    },
    {
      "cell_type": "code",
      "execution_count": 40,
      "id": "6fe217b2",
      "metadata": {},
      "outputs": [
        {
          "name": "stderr",
          "output_type": "stream",
          "text": [
            "C:\\Users\\Люля\\AppData\\Local\\Temp\\ipykernel_7144\\1095106340.py:1: UserWarning: pandas only supports SQLAlchemy connectable (engine/connection) or database string URI or sqlite3 DBAPI2 connection. Other DBAPI2 objects are not tested. Please consider using SQLAlchemy.\n",
            "  pd.read_sql_query(query_4_add_2, connection)\n"
          ]
        },
        {
          "data": {
            "text/html": [
              "<div>\n",
              "<style scoped>\n",
              "    .dataframe tbody tr th:only-of-type {\n",
              "        vertical-align: middle;\n",
              "    }\n",
              "\n",
              "    .dataframe tbody tr th {\n",
              "        vertical-align: top;\n",
              "    }\n",
              "\n",
              "    .dataframe thead th {\n",
              "        text-align: right;\n",
              "    }\n",
              "</style>\n",
              "<table border=\"1\" class=\"dataframe\">\n",
              "  <thead>\n",
              "    <tr style=\"text-align: right;\">\n",
              "      <th></th>\n",
              "      <th>experience</th>\n",
              "      <th>avg_salary_min</th>\n",
              "      <th>avg_salary_max</th>\n",
              "    </tr>\n",
              "  </thead>\n",
              "  <tbody>\n",
              "    <tr>\n",
              "      <th>0</th>\n",
              "      <td>Более 6 лет</td>\n",
              "      <td>150156.0</td>\n",
              "      <td>197819.0</td>\n",
              "    </tr>\n",
              "    <tr>\n",
              "      <th>1</th>\n",
              "      <td>От 3 до 6 лет</td>\n",
              "      <td>112544.0</td>\n",
              "      <td>171974.0</td>\n",
              "    </tr>\n",
              "    <tr>\n",
              "      <th>2</th>\n",
              "      <td>От 1 года до 3 лет</td>\n",
              "      <td>64456.0</td>\n",
              "      <td>97436.0</td>\n",
              "    </tr>\n",
              "    <tr>\n",
              "      <th>3</th>\n",
              "      <td>Нет опыта</td>\n",
              "      <td>34699.0</td>\n",
              "      <td>56990.0</td>\n",
              "    </tr>\n",
              "  </tbody>\n",
              "</table>\n",
              "</div>"
            ],
            "text/plain": [
              "           experience  avg_salary_min  avg_salary_max\n",
              "0         Более 6 лет        150156.0        197819.0\n",
              "1       От 3 до 6 лет        112544.0        171974.0\n",
              "2  От 1 года до 3 лет         64456.0         97436.0\n",
              "3           Нет опыта         34699.0         56990.0"
            ]
          },
          "execution_count": 40,
          "metadata": {},
          "output_type": "execute_result"
        }
      ],
      "source": [
        "pd.read_sql_query(query_4_add_2, connection)"
      ]
    },
    {
      "cell_type": "code",
      "execution_count": 43,
      "id": "f9cf17b6",
      "metadata": {},
      "outputs": [],
      "source": [
        "#Составлен запрос, позволяющий увидеть, как различаются среднее значение\n",
        "#нижней и верхней границы в зависимости от типа рабочего графика и типа трудоустройства.\n",
        "query_4_add_3 = f'''select \n",
        "                    schedule,\n",
        "                    employment,\n",
        "                    round(avg(salary_from)) as avg_salary_min,\n",
        "                    round(avg(salary_to)) as avg_salary_max\n",
        "                from \n",
        "                    public.vacancies\n",
        "                group by\n",
        "                    schedule, employment\n",
        "                order by count(*) desc\n",
        "'''"
      ]
    },
    {
      "cell_type": "code",
      "execution_count": 44,
      "id": "221f8f37",
      "metadata": {},
      "outputs": [
        {
          "name": "stderr",
          "output_type": "stream",
          "text": [
            "C:\\Users\\Люля\\AppData\\Local\\Temp\\ipykernel_7144\\2128982762.py:1: UserWarning: pandas only supports SQLAlchemy connectable (engine/connection) or database string URI or sqlite3 DBAPI2 connection. Other DBAPI2 objects are not tested. Please consider using SQLAlchemy.\n",
            "  pd.read_sql_query(query_4_add_3, connection)\n"
          ]
        },
        {
          "data": {
            "text/html": [
              "<div>\n",
              "<style scoped>\n",
              "    .dataframe tbody tr th:only-of-type {\n",
              "        vertical-align: middle;\n",
              "    }\n",
              "\n",
              "    .dataframe tbody tr th {\n",
              "        vertical-align: top;\n",
              "    }\n",
              "\n",
              "    .dataframe thead th {\n",
              "        text-align: right;\n",
              "    }\n",
              "</style>\n",
              "<table border=\"1\" class=\"dataframe\">\n",
              "  <thead>\n",
              "    <tr style=\"text-align: right;\">\n",
              "      <th></th>\n",
              "      <th>schedule</th>\n",
              "      <th>employment</th>\n",
              "      <th>avg_salary_min</th>\n",
              "      <th>avg_salary_max</th>\n",
              "    </tr>\n",
              "  </thead>\n",
              "  <tbody>\n",
              "    <tr>\n",
              "      <th>0</th>\n",
              "      <td>Полный день</td>\n",
              "      <td>Полная занятость</td>\n",
              "      <td>69165.0</td>\n",
              "      <td>101676.0</td>\n",
              "    </tr>\n",
              "    <tr>\n",
              "      <th>1</th>\n",
              "      <td>Удаленная работа</td>\n",
              "      <td>Полная занятость</td>\n",
              "      <td>100652.0</td>\n",
              "      <td>157314.0</td>\n",
              "    </tr>\n",
              "    <tr>\n",
              "      <th>2</th>\n",
              "      <td>Гибкий график</td>\n",
              "      <td>Полная занятость</td>\n",
              "      <td>94725.0</td>\n",
              "      <td>156357.0</td>\n",
              "    </tr>\n",
              "    <tr>\n",
              "      <th>3</th>\n",
              "      <td>Удаленная работа</td>\n",
              "      <td>Частичная занятость</td>\n",
              "      <td>22500.0</td>\n",
              "      <td>81262.0</td>\n",
              "    </tr>\n",
              "    <tr>\n",
              "      <th>4</th>\n",
              "      <td>Сменный график</td>\n",
              "      <td>Полная занятость</td>\n",
              "      <td>43502.0</td>\n",
              "      <td>51023.0</td>\n",
              "    </tr>\n",
              "    <tr>\n",
              "      <th>5</th>\n",
              "      <td>Полный день</td>\n",
              "      <td>Стажировка</td>\n",
              "      <td>29546.0</td>\n",
              "      <td>48637.0</td>\n",
              "    </tr>\n",
              "    <tr>\n",
              "      <th>6</th>\n",
              "      <td>Вахтовый метод</td>\n",
              "      <td>Полная занятость</td>\n",
              "      <td>106953.0</td>\n",
              "      <td>139904.0</td>\n",
              "    </tr>\n",
              "    <tr>\n",
              "      <th>7</th>\n",
              "      <td>Полный день</td>\n",
              "      <td>Частичная занятость</td>\n",
              "      <td>39507.0</td>\n",
              "      <td>69031.0</td>\n",
              "    </tr>\n",
              "    <tr>\n",
              "      <th>8</th>\n",
              "      <td>Гибкий график</td>\n",
              "      <td>Частичная занятость</td>\n",
              "      <td>37351.0</td>\n",
              "      <td>55199.0</td>\n",
              "    </tr>\n",
              "    <tr>\n",
              "      <th>9</th>\n",
              "      <td>Полный день</td>\n",
              "      <td>Проектная работа</td>\n",
              "      <td>77161.0</td>\n",
              "      <td>111779.0</td>\n",
              "    </tr>\n",
              "    <tr>\n",
              "      <th>10</th>\n",
              "      <td>Удаленная работа</td>\n",
              "      <td>Проектная работа</td>\n",
              "      <td>73507.0</td>\n",
              "      <td>98240.0</td>\n",
              "    </tr>\n",
              "    <tr>\n",
              "      <th>11</th>\n",
              "      <td>Гибкий график</td>\n",
              "      <td>Стажировка</td>\n",
              "      <td>30722.0</td>\n",
              "      <td>49406.0</td>\n",
              "    </tr>\n",
              "    <tr>\n",
              "      <th>12</th>\n",
              "      <td>Сменный график</td>\n",
              "      <td>Частичная занятость</td>\n",
              "      <td>31805.0</td>\n",
              "      <td>36353.0</td>\n",
              "    </tr>\n",
              "    <tr>\n",
              "      <th>13</th>\n",
              "      <td>Удаленная работа</td>\n",
              "      <td>Стажировка</td>\n",
              "      <td>29351.0</td>\n",
              "      <td>44536.0</td>\n",
              "    </tr>\n",
              "    <tr>\n",
              "      <th>14</th>\n",
              "      <td>Гибкий график</td>\n",
              "      <td>Проектная работа</td>\n",
              "      <td>112558.0</td>\n",
              "      <td>185115.0</td>\n",
              "    </tr>\n",
              "    <tr>\n",
              "      <th>15</th>\n",
              "      <td>Сменный график</td>\n",
              "      <td>Стажировка</td>\n",
              "      <td>69250.0</td>\n",
              "      <td>45000.0</td>\n",
              "    </tr>\n",
              "    <tr>\n",
              "      <th>16</th>\n",
              "      <td>Вахтовый метод</td>\n",
              "      <td>Проектная работа</td>\n",
              "      <td>150000.0</td>\n",
              "      <td>NaN</td>\n",
              "    </tr>\n",
              "    <tr>\n",
              "      <th>17</th>\n",
              "      <td>Сменный график</td>\n",
              "      <td>Проектная работа</td>\n",
              "      <td>50000.0</td>\n",
              "      <td>70000.0</td>\n",
              "    </tr>\n",
              "  </tbody>\n",
              "</table>\n",
              "</div>"
            ],
            "text/plain": [
              "            schedule           employment  avg_salary_min  avg_salary_max\n",
              "0        Полный день     Полная занятость         69165.0        101676.0\n",
              "1   Удаленная работа     Полная занятость        100652.0        157314.0\n",
              "2      Гибкий график     Полная занятость         94725.0        156357.0\n",
              "3   Удаленная работа  Частичная занятость         22500.0         81262.0\n",
              "4     Сменный график     Полная занятость         43502.0         51023.0\n",
              "5        Полный день           Стажировка         29546.0         48637.0\n",
              "6     Вахтовый метод     Полная занятость        106953.0        139904.0\n",
              "7        Полный день  Частичная занятость         39507.0         69031.0\n",
              "8      Гибкий график  Частичная занятость         37351.0         55199.0\n",
              "9        Полный день     Проектная работа         77161.0        111779.0\n",
              "10  Удаленная работа     Проектная работа         73507.0         98240.0\n",
              "11     Гибкий график           Стажировка         30722.0         49406.0\n",
              "12    Сменный график  Частичная занятость         31805.0         36353.0\n",
              "13  Удаленная работа           Стажировка         29351.0         44536.0\n",
              "14     Гибкий график     Проектная работа        112558.0        185115.0\n",
              "15    Сменный график           Стажировка         69250.0         45000.0\n",
              "16    Вахтовый метод     Проектная работа        150000.0             NaN\n",
              "17    Сменный график     Проектная работа         50000.0         70000.0"
            ]
          },
          "execution_count": 44,
          "metadata": {},
          "output_type": "execute_result"
        }
      ],
      "source": [
        "pd.read_sql_query(query_4_add_3, connection)"
      ]
    },
    {
      "cell_type": "code",
      "execution_count": 23,
      "id": "e91f87ed-e25c-4f96-9f92-b642e8c0b4fa",
      "metadata": {
        "id": "e91f87ed-e25c-4f96-9f92-b642e8c0b4fa"
      },
      "outputs": [],
      "source": [
        "#Более чем у половины вакансий отсутствует указание на потенциальный размер заработной платы.\n",
        "#Для построения модели, прогнозирующей зарплату на основе имеющихся данных, необходимо\n",
        "#в обязательном порядке провести дополнительную работу с пропусками.\n",
        "#Подавляющее большинство вакансий в базе ориентированы на кандидатов, имеющих опыт работы.\n",
        "#Вакансии, представленные в базе, распределены по различным регионам.\n",
        "#Большая часть вакансий предполагае полную занятость на полный рабочий день.\n",
        "#Также достаточно много вакансий для удаленной работы.\n",
        "#На основании поверхностного анализа данных признаков можно предположить,\n",
        "#что они влияют на различие в среднем уровне заработной платы.\n",
        "#Соответственно после более детального изучения и прообработки\n",
        "#данные признаки можно использовать для более качественного заполнения пустых полей с заработной платой."
      ]
    },
    {
      "cell_type": "markdown",
      "id": "7ea20ab6-04a7-40a0-adec-443a0e5a42c3",
      "metadata": {
        "id": "7ea20ab6-04a7-40a0-adec-443a0e5a42c3"
      },
      "source": [
        "# Юнит 5. Анализ работодателей"
      ]
    },
    {
      "cell_type": "markdown",
      "id": "968aed80-74ef-4ffb-b5bf-c65b84e9caea",
      "metadata": {
        "id": "968aed80-74ef-4ffb-b5bf-c65b84e9caea"
      },
      "source": [
        "1. Напишите запрос, который позволит узнать, какие работодатели находятся на первом и пятом месте по количеству вакансий."
      ]
    },
    {
      "cell_type": "code",
      "execution_count": 24,
      "id": "f2d62796-d400-4ec1-a675-88112739a50e",
      "metadata": {
        "id": "f2d62796-d400-4ec1-a675-88112739a50e"
      },
      "outputs": [],
      "source": [
        "#Для составления запроса объединены таблица с работодателями присоединена к таблице с вакансиями.\n",
        "#Данные сгруппированы по наименованию работодателя и отсортированы\n",
        "#по количеству вакансий, размещенных работодателем. Оставлены первые пять значений.\n",
        "n = 5\n",
        "query_5_1 = f'''select \n",
        "                    count(v.id) as vacancies_count,\n",
        "                    e.name as employers\n",
        "                from \n",
        "                    public.vacancies as v\n",
        "                join \n",
        "                    public.employers as e on v.employer_id = e.id\n",
        "                group by \n",
        "                    e.name\n",
        "                order by \n",
        "                    count(v.id) desc\n",
        "                limit {n}\n",
        "'''"
      ]
    },
    {
      "cell_type": "code",
      "execution_count": 25,
      "id": "64tOMkAxqkQk",
      "metadata": {
        "id": "64tOMkAxqkQk"
      },
      "outputs": [
        {
          "name": "stderr",
          "output_type": "stream",
          "text": [
            "C:\\Users\\Люля\\AppData\\Local\\Temp\\ipykernel_1180\\3902369145.py:2: UserWarning: pandas only supports SQLAlchemy connectable (engine/connection) or database string URI or sqlite3 DBAPI2 connection. Other DBAPI2 objects are not tested. Please consider using SQLAlchemy.\n",
            "  pd.read_sql_query(query_5_1, connection)\n"
          ]
        },
        {
          "data": {
            "text/html": [
              "<div>\n",
              "<style scoped>\n",
              "    .dataframe tbody tr th:only-of-type {\n",
              "        vertical-align: middle;\n",
              "    }\n",
              "\n",
              "    .dataframe tbody tr th {\n",
              "        vertical-align: top;\n",
              "    }\n",
              "\n",
              "    .dataframe thead th {\n",
              "        text-align: right;\n",
              "    }\n",
              "</style>\n",
              "<table border=\"1\" class=\"dataframe\">\n",
              "  <thead>\n",
              "    <tr style=\"text-align: right;\">\n",
              "      <th></th>\n",
              "      <th>vacancies_count</th>\n",
              "      <th>employers</th>\n",
              "    </tr>\n",
              "  </thead>\n",
              "  <tbody>\n",
              "    <tr>\n",
              "      <th>0</th>\n",
              "      <td>1933</td>\n",
              "      <td>Яндекс</td>\n",
              "    </tr>\n",
              "    <tr>\n",
              "      <th>1</th>\n",
              "      <td>491</td>\n",
              "      <td>Ростелеком</td>\n",
              "    </tr>\n",
              "    <tr>\n",
              "      <th>2</th>\n",
              "      <td>444</td>\n",
              "      <td>Тинькофф</td>\n",
              "    </tr>\n",
              "    <tr>\n",
              "      <th>3</th>\n",
              "      <td>428</td>\n",
              "      <td>СБЕР</td>\n",
              "    </tr>\n",
              "    <tr>\n",
              "      <th>4</th>\n",
              "      <td>331</td>\n",
              "      <td>Газпром нефть</td>\n",
              "    </tr>\n",
              "  </tbody>\n",
              "</table>\n",
              "</div>"
            ],
            "text/plain": [
              "   vacancies_count      employers\n",
              "0             1933         Яндекс\n",
              "1              491     Ростелеком\n",
              "2              444       Тинькофф\n",
              "3              428           СБЕР\n",
              "4              331  Газпром нефть"
            ]
          },
          "execution_count": 25,
          "metadata": {},
          "output_type": "execute_result"
        }
      ],
      "source": [
        "pd.read_sql_query(query_5_1, connection)"
      ]
    },
    {
      "cell_type": "markdown",
      "id": "68377cfc-b378-43dc-ab7d-1195abf2c515",
      "metadata": {
        "id": "68377cfc-b378-43dc-ab7d-1195abf2c515"
      },
      "source": [
        "2. Напишите запрос, который для каждого региона выведет количество работодателей и вакансий в нём.\n",
        "Среди регионов, в которых нет вакансий, найдите тот, в котором наибольшее количество работодателей.\n"
      ]
    },
    {
      "cell_type": "code",
      "execution_count": 26,
      "id": "dd7df27a-e3e8-412e-a21a-5d389b71e891",
      "metadata": {
        "id": "dd7df27a-e3e8-412e-a21a-5d389b71e891"
      },
      "outputs": [],
      "source": [
        "#Для составления запроса объединены таблицы с вакансиями, работодателями присодинена к таблице с регионами.\n",
        "#Данные сгруппированы по наименованию работодателя и отфильтрованы - оставлены данные\n",
        "#о работодателях, кто разместил 0 вакансий. Данные отсортированы по количеству регионов\n",
        "#присутствия таких работодателей.\n",
        "query_5_2 = f'''select \n",
        "                    a.name as area,\n",
        "                    count(v.id) as vacancies_count,\n",
        "                    count(e.id) as employers_count\n",
        "                from \n",
        "                    public.areas as a\n",
        "                left join \n",
        "                    public.employers as e on a.id = e.area\n",
        "                left join\n",
        "                    public.vacancies as v on v.area_id = a.id\n",
        "                group by \n",
        "                    a.name\n",
        "                having\n",
        "                    count(v.id) = 0\n",
        "                order by \n",
        "                    count(e.id) desc\n",
        "'''"
      ]
    },
    {
      "cell_type": "code",
      "execution_count": 27,
      "id": "x1ikWbydrbf6",
      "metadata": {
        "id": "x1ikWbydrbf6"
      },
      "outputs": [
        {
          "name": "stderr",
          "output_type": "stream",
          "text": [
            "C:\\Users\\Люля\\AppData\\Local\\Temp\\ipykernel_1180\\2146817738.py:2: UserWarning: pandas only supports SQLAlchemy connectable (engine/connection) or database string URI or sqlite3 DBAPI2 connection. Other DBAPI2 objects are not tested. Please consider using SQLAlchemy.\n",
            "  pd.read_sql_query(query_5_2, connection)\n"
          ]
        },
        {
          "data": {
            "text/html": [
              "<div>\n",
              "<style scoped>\n",
              "    .dataframe tbody tr th:only-of-type {\n",
              "        vertical-align: middle;\n",
              "    }\n",
              "\n",
              "    .dataframe tbody tr th {\n",
              "        vertical-align: top;\n",
              "    }\n",
              "\n",
              "    .dataframe thead th {\n",
              "        text-align: right;\n",
              "    }\n",
              "</style>\n",
              "<table border=\"1\" class=\"dataframe\">\n",
              "  <thead>\n",
              "    <tr style=\"text-align: right;\">\n",
              "      <th></th>\n",
              "      <th>area</th>\n",
              "      <th>vacancies_count</th>\n",
              "      <th>employers_count</th>\n",
              "    </tr>\n",
              "  </thead>\n",
              "  <tbody>\n",
              "    <tr>\n",
              "      <th>0</th>\n",
              "      <td>Россия</td>\n",
              "      <td>0</td>\n",
              "      <td>410</td>\n",
              "    </tr>\n",
              "    <tr>\n",
              "      <th>1</th>\n",
              "      <td>Казахстан</td>\n",
              "      <td>0</td>\n",
              "      <td>207</td>\n",
              "    </tr>\n",
              "    <tr>\n",
              "      <th>2</th>\n",
              "      <td>Московская область</td>\n",
              "      <td>0</td>\n",
              "      <td>75</td>\n",
              "    </tr>\n",
              "    <tr>\n",
              "      <th>3</th>\n",
              "      <td>Краснодарский край</td>\n",
              "      <td>0</td>\n",
              "      <td>19</td>\n",
              "    </tr>\n",
              "    <tr>\n",
              "      <th>4</th>\n",
              "      <td>Ростовская область</td>\n",
              "      <td>0</td>\n",
              "      <td>18</td>\n",
              "    </tr>\n",
              "    <tr>\n",
              "      <th>...</th>\n",
              "      <td>...</td>\n",
              "      <td>...</td>\n",
              "      <td>...</td>\n",
              "    </tr>\n",
              "    <tr>\n",
              "      <th>588</th>\n",
              "      <td>Струнино</td>\n",
              "      <td>0</td>\n",
              "      <td>0</td>\n",
              "    </tr>\n",
              "    <tr>\n",
              "      <th>589</th>\n",
              "      <td>Славгород (Алтайский край)</td>\n",
              "      <td>0</td>\n",
              "      <td>0</td>\n",
              "    </tr>\n",
              "    <tr>\n",
              "      <th>590</th>\n",
              "      <td>Сорочинск</td>\n",
              "      <td>0</td>\n",
              "      <td>0</td>\n",
              "    </tr>\n",
              "    <tr>\n",
              "      <th>591</th>\n",
              "      <td>Ленинский (Тульская область)</td>\n",
              "      <td>0</td>\n",
              "      <td>0</td>\n",
              "    </tr>\n",
              "    <tr>\n",
              "      <th>592</th>\n",
              "      <td>Тавда</td>\n",
              "      <td>0</td>\n",
              "      <td>0</td>\n",
              "    </tr>\n",
              "  </tbody>\n",
              "</table>\n",
              "<p>593 rows × 3 columns</p>\n",
              "</div>"
            ],
            "text/plain": [
              "                             area  vacancies_count  employers_count\n",
              "0                          Россия                0              410\n",
              "1                       Казахстан                0              207\n",
              "2              Московская область                0               75\n",
              "3              Краснодарский край                0               19\n",
              "4              Ростовская область                0               18\n",
              "..                            ...              ...              ...\n",
              "588                      Струнино                0                0\n",
              "589    Славгород (Алтайский край)                0                0\n",
              "590                     Сорочинск                0                0\n",
              "591  Ленинский (Тульская область)                0                0\n",
              "592                         Тавда                0                0\n",
              "\n",
              "[593 rows x 3 columns]"
            ]
          },
          "execution_count": 27,
          "metadata": {},
          "output_type": "execute_result"
        }
      ],
      "source": [
        "pd.read_sql_query(query_5_2, connection)"
      ]
    },
    {
      "cell_type": "markdown",
      "id": "f2fe0acb-ab1a-4e15-9326-2560e22d73c1",
      "metadata": {
        "id": "f2fe0acb-ab1a-4e15-9326-2560e22d73c1"
      },
      "source": [
        "3. Для каждого работодателя посчитайте количество регионов, в которых он публикует свои вакансии. Отсортируйте результат по убыванию количества.\n"
      ]
    },
    {
      "cell_type": "code",
      "execution_count": 29,
      "id": "6271f8ad-bd2e-4196-ae4a-5b39c4c1010e",
      "metadata": {
        "id": "6271f8ad-bd2e-4196-ae4a-5b39c4c1010e"
      },
      "outputs": [],
      "source": [
        "#Для составления запроса объединены таблицы с регионами и работодателями присоединены к таблице с вакансиями.\n",
        "#Данные сгруппированы по наименованию работодателя. Данные отсортированы по количеству уникальных регионов, где\n",
        "#работодатель размещал вакансии.\n",
        "query_5_3 = f'''select \n",
        "                    e.name as employer,\n",
        "                    count(distinct a.id) as areas_count\n",
        "                from\n",
        "                    public.vacancies as v\n",
        "                join \n",
        "                    public.employers as e on v.employer_id = e.id\n",
        "                join\n",
        "                    public.areas as a on v.area_id = a.id\n",
        "                group by \n",
        "                    e.name\n",
        "                order by \n",
        "                    count(distinct a.id) desc\n",
        "'''"
      ]
    },
    {
      "cell_type": "code",
      "execution_count": 30,
      "id": "1EIvX3HasH4F",
      "metadata": {
        "id": "1EIvX3HasH4F"
      },
      "outputs": [
        {
          "name": "stderr",
          "output_type": "stream",
          "text": [
            "C:\\Users\\Люля\\AppData\\Local\\Temp\\ipykernel_260\\593965358.py:2: UserWarning: pandas only supports SQLAlchemy connectable (engine/connection) or database string URI or sqlite3 DBAPI2 connection. Other DBAPI2 objects are not tested. Please consider using SQLAlchemy.\n",
            "  pd.read_sql_query(query_5_3, connection)\n"
          ]
        },
        {
          "data": {
            "text/html": [
              "<div>\n",
              "<style scoped>\n",
              "    .dataframe tbody tr th:only-of-type {\n",
              "        vertical-align: middle;\n",
              "    }\n",
              "\n",
              "    .dataframe tbody tr th {\n",
              "        vertical-align: top;\n",
              "    }\n",
              "\n",
              "    .dataframe thead th {\n",
              "        text-align: right;\n",
              "    }\n",
              "</style>\n",
              "<table border=\"1\" class=\"dataframe\">\n",
              "  <thead>\n",
              "    <tr style=\"text-align: right;\">\n",
              "      <th></th>\n",
              "      <th>employer</th>\n",
              "      <th>areas_count</th>\n",
              "    </tr>\n",
              "  </thead>\n",
              "  <tbody>\n",
              "    <tr>\n",
              "      <th>0</th>\n",
              "      <td>Яндекс</td>\n",
              "      <td>181</td>\n",
              "    </tr>\n",
              "    <tr>\n",
              "      <th>1</th>\n",
              "      <td>Ростелеком</td>\n",
              "      <td>152</td>\n",
              "    </tr>\n",
              "    <tr>\n",
              "      <th>2</th>\n",
              "      <td>Спецремонт</td>\n",
              "      <td>116</td>\n",
              "    </tr>\n",
              "    <tr>\n",
              "      <th>3</th>\n",
              "      <td>Поляков Денис Иванович</td>\n",
              "      <td>88</td>\n",
              "    </tr>\n",
              "    <tr>\n",
              "      <th>4</th>\n",
              "      <td>ООО ЕФИН</td>\n",
              "      <td>71</td>\n",
              "    </tr>\n",
              "    <tr>\n",
              "      <th>...</th>\n",
              "      <td>...</td>\n",
              "      <td>...</td>\n",
              "    </tr>\n",
              "    <tr>\n",
              "      <th>14761</th>\n",
              "      <td>UniSol</td>\n",
              "      <td>1</td>\n",
              "    </tr>\n",
              "    <tr>\n",
              "      <th>14762</th>\n",
              "      <td>UNISTORY LLC</td>\n",
              "      <td>1</td>\n",
              "    </tr>\n",
              "    <tr>\n",
              "      <th>14763</th>\n",
              "      <td>UNIT6</td>\n",
              "      <td>1</td>\n",
              "    </tr>\n",
              "    <tr>\n",
              "      <th>14764</th>\n",
              "      <td>United Distribution</td>\n",
              "      <td>1</td>\n",
              "    </tr>\n",
              "    <tr>\n",
              "      <th>14765</th>\n",
              "      <td>UNITEL LLC</td>\n",
              "      <td>1</td>\n",
              "    </tr>\n",
              "  </tbody>\n",
              "</table>\n",
              "<p>14766 rows × 2 columns</p>\n",
              "</div>"
            ],
            "text/plain": [
              "                     employer  areas_count\n",
              "0                      Яндекс          181\n",
              "1                  Ростелеком          152\n",
              "2                  Спецремонт          116\n",
              "3      Поляков Денис Иванович           88\n",
              "4                   ООО ЕФИН            71\n",
              "...                       ...          ...\n",
              "14761                  UniSol            1\n",
              "14762            UNISTORY LLC            1\n",
              "14763                   UNIT6            1\n",
              "14764     United Distribution            1\n",
              "14765              UNITEL LLC            1\n",
              "\n",
              "[14766 rows x 2 columns]"
            ]
          },
          "execution_count": 30,
          "metadata": {},
          "output_type": "execute_result"
        }
      ],
      "source": [
        "# результат запроса\n",
        "pd.read_sql_query(query_5_3, connection)"
      ]
    },
    {
      "cell_type": "markdown",
      "id": "eab2206d-d95b-468b-8e5f-34381abf0ce7",
      "metadata": {
        "id": "eab2206d-d95b-468b-8e5f-34381abf0ce7"
      },
      "source": [
        "4. Напишите запрос для подсчёта количества работодателей, у которых не указана сфера деятельности. "
      ]
    },
    {
      "cell_type": "code",
      "execution_count": 30,
      "id": "80defb23-bfb1-4a18-8be6-bf36aa7165d5",
      "metadata": {
        "id": "80defb23-bfb1-4a18-8be6-bf36aa7165d5"
      },
      "outputs": [],
      "source": [
        "#Таблица с индексами сфер деятельности присоединена к таблице с работодателями.\n",
        "#Данные отфильтрованы на предмет того, указана ли сфера деятельности у конкретного работодателя.\n",
        "query_5_4 = f'''select \n",
        "                    count (e.id) as employer_no_industry\n",
        "                from\n",
        "                    public.employers as e\n",
        "                left join \n",
        "                    public.employers_industries as ei on ei.employer_id = e.id\n",
        "                where\n",
        "                    ei.industry_id is null\n",
        "'''"
      ]
    },
    {
      "cell_type": "code",
      "execution_count": 31,
      "id": "Dp_yCx6ysQSu",
      "metadata": {
        "id": "Dp_yCx6ysQSu"
      },
      "outputs": [
        {
          "name": "stderr",
          "output_type": "stream",
          "text": [
            "C:\\Users\\Люля\\AppData\\Local\\Temp\\ipykernel_1180\\1644714913.py:2: UserWarning: pandas only supports SQLAlchemy connectable (engine/connection) or database string URI or sqlite3 DBAPI2 connection. Other DBAPI2 objects are not tested. Please consider using SQLAlchemy.\n",
            "  pd.read_sql_query(query_5_4, connection)\n"
          ]
        },
        {
          "data": {
            "text/html": [
              "<div>\n",
              "<style scoped>\n",
              "    .dataframe tbody tr th:only-of-type {\n",
              "        vertical-align: middle;\n",
              "    }\n",
              "\n",
              "    .dataframe tbody tr th {\n",
              "        vertical-align: top;\n",
              "    }\n",
              "\n",
              "    .dataframe thead th {\n",
              "        text-align: right;\n",
              "    }\n",
              "</style>\n",
              "<table border=\"1\" class=\"dataframe\">\n",
              "  <thead>\n",
              "    <tr style=\"text-align: right;\">\n",
              "      <th></th>\n",
              "      <th>employer_no_industry</th>\n",
              "    </tr>\n",
              "  </thead>\n",
              "  <tbody>\n",
              "    <tr>\n",
              "      <th>0</th>\n",
              "      <td>8419</td>\n",
              "    </tr>\n",
              "  </tbody>\n",
              "</table>\n",
              "</div>"
            ],
            "text/plain": [
              "   employer_no_industry\n",
              "0                  8419"
            ]
          },
          "execution_count": 31,
          "metadata": {},
          "output_type": "execute_result"
        }
      ],
      "source": [
        "pd.read_sql_query(query_5_4, connection)"
      ]
    },
    {
      "cell_type": "markdown",
      "id": "0112af31-f6b0-4e3b-82ab-71296e752e5e",
      "metadata": {
        "id": "0112af31-f6b0-4e3b-82ab-71296e752e5e"
      },
      "source": [
        "5. Напишите запрос, чтобы узнать название компании, находящейся на третьем месте в алфавитном списке (по названию) компаний, у которых указано четыре сферы деятельности. "
      ]
    },
    {
      "cell_type": "code",
      "execution_count": 34,
      "id": "973b0cfc-a972-470a-8b4a-68744ef220c4",
      "metadata": {
        "id": "973b0cfc-a972-470a-8b4a-68744ef220c4"
      },
      "outputs": [],
      "source": [
        "#Таблица с индексами сфер деятельности присоединена к таблице с работодателями.\n",
        "#Данные сгруппированы по названию работодателя, сгруппированные данные отфильтрованы\n",
        "#на предмет того, чтобы у работодателя было указано 4 сферы деятельности.\n",
        "#Данные отфильтрованы в алфавитном порядке по наименованию работодателя.\n",
        "query_5_5 = f'''select \n",
        "                    e.name,\n",
        "                    count (ei.industry_id) as industries\n",
        "                from\n",
        "                    public.employers as e\n",
        "                left join \n",
        "                    public.employers_industries as ei on ei.employer_id = e.id\n",
        "                group by\n",
        "                    e.name\n",
        "                having\n",
        "                    count (ei.industry_id) = 4\n",
        "                order by\n",
        "                    e.name\n",
        "'''"
      ]
    },
    {
      "cell_type": "code",
      "execution_count": 35,
      "id": "xsPtpp8EsaED",
      "metadata": {
        "id": "xsPtpp8EsaED"
      },
      "outputs": [
        {
          "name": "stderr",
          "output_type": "stream",
          "text": [
            "C:\\Users\\Люля\\AppData\\Local\\Temp\\ipykernel_1180\\1169902027.py:2: UserWarning: pandas only supports SQLAlchemy connectable (engine/connection) or database string URI or sqlite3 DBAPI2 connection. Other DBAPI2 objects are not tested. Please consider using SQLAlchemy.\n",
            "  pd.read_sql_query(query_5_5, connection)\n"
          ]
        },
        {
          "data": {
            "text/html": [
              "<div>\n",
              "<style scoped>\n",
              "    .dataframe tbody tr th:only-of-type {\n",
              "        vertical-align: middle;\n",
              "    }\n",
              "\n",
              "    .dataframe tbody tr th {\n",
              "        vertical-align: top;\n",
              "    }\n",
              "\n",
              "    .dataframe thead th {\n",
              "        text-align: right;\n",
              "    }\n",
              "</style>\n",
              "<table border=\"1\" class=\"dataframe\">\n",
              "  <thead>\n",
              "    <tr style=\"text-align: right;\">\n",
              "      <th></th>\n",
              "      <th>name</th>\n",
              "      <th>industries</th>\n",
              "    </tr>\n",
              "  </thead>\n",
              "  <tbody>\n",
              "    <tr>\n",
              "      <th>0</th>\n",
              "      <td>101 Интернет</td>\n",
              "      <td>4</td>\n",
              "    </tr>\n",
              "    <tr>\n",
              "      <th>1</th>\n",
              "      <td>21vek.by</td>\n",
              "      <td>4</td>\n",
              "    </tr>\n",
              "    <tr>\n",
              "      <th>2</th>\n",
              "      <td>2ГИС</td>\n",
              "      <td>4</td>\n",
              "    </tr>\n",
              "    <tr>\n",
              "      <th>3</th>\n",
              "      <td>2К</td>\n",
              "      <td>4</td>\n",
              "    </tr>\n",
              "    <tr>\n",
              "      <th>4</th>\n",
              "      <td>4 пикселя +</td>\n",
              "      <td>4</td>\n",
              "    </tr>\n",
              "    <tr>\n",
              "      <th>...</th>\n",
              "      <td>...</td>\n",
              "      <td>...</td>\n",
              "    </tr>\n",
              "    <tr>\n",
              "      <th>1131</th>\n",
              "      <td>ЮРИОН</td>\n",
              "      <td>4</td>\n",
              "    </tr>\n",
              "    <tr>\n",
              "      <th>1132</th>\n",
              "      <td>ЮТИП Технологии</td>\n",
              "      <td>4</td>\n",
              "    </tr>\n",
              "    <tr>\n",
              "      <th>1133</th>\n",
              "      <td>ЯКласс</td>\n",
              "      <td>4</td>\n",
              "    </tr>\n",
              "    <tr>\n",
              "      <th>1134</th>\n",
              "      <td>ЯрНео</td>\n",
              "      <td>4</td>\n",
              "    </tr>\n",
              "    <tr>\n",
              "      <th>1135</th>\n",
              "      <td>Яшин&amp;Партнёры</td>\n",
              "      <td>4</td>\n",
              "    </tr>\n",
              "  </tbody>\n",
              "</table>\n",
              "<p>1136 rows × 2 columns</p>\n",
              "</div>"
            ],
            "text/plain": [
              "                 name  industries\n",
              "0        101 Интернет           4\n",
              "1            21vek.by           4\n",
              "2                2ГИС           4\n",
              "3                  2К           4\n",
              "4         4 пикселя +           4\n",
              "...               ...         ...\n",
              "1131            ЮРИОН           4\n",
              "1132  ЮТИП Технологии           4\n",
              "1133           ЯКласс           4\n",
              "1134            ЯрНео           4\n",
              "1135    Яшин&Партнёры           4\n",
              "\n",
              "[1136 rows x 2 columns]"
            ]
          },
          "execution_count": 35,
          "metadata": {},
          "output_type": "execute_result"
        }
      ],
      "source": [
        "pd.read_sql_query(query_5_5, connection)"
      ]
    },
    {
      "cell_type": "markdown",
      "id": "3bfcfdaf-755d-4d2b-8ed8-326201dc07ab",
      "metadata": {
        "id": "3bfcfdaf-755d-4d2b-8ed8-326201dc07ab"
      },
      "source": [
        "6. С помощью запроса выясните, у какого количества работодателей в качестве сферы деятельности указана Разработка программного обеспечения.\n"
      ]
    },
    {
      "cell_type": "code",
      "execution_count": 31,
      "id": "ad3f270f-2991-47eb-929b-e8f88a55b0d1",
      "metadata": {
        "id": "ad3f270f-2991-47eb-929b-e8f88a55b0d1"
      },
      "outputs": [],
      "source": [
        "#К таблице с названием сфер деятельности присоединена таблица с индексами работодателей.\n",
        "#Данные сгруппированы по названию сферы деятельности.\n",
        "#Данные отфильрованы на предмет того, чтобы в сфере деятельности была указана разработка ПО.\n",
        "query_5_6 = f'''select \n",
        "                   i.name,\n",
        "                   count (ei.employer_id) as employers_count\n",
        "                from\n",
        "                    public.industries as i\n",
        "                left join \n",
        "                    public.employers_industries as ei on ei.industry_id = i.id\n",
        "                group by\n",
        "                    i.name\n",
        "                having\n",
        "                    i.name = 'Разработка программного обеспечения'\n",
        "'''"
      ]
    },
    {
      "cell_type": "code",
      "execution_count": 32,
      "id": "H72qxWM0shPR",
      "metadata": {
        "id": "H72qxWM0shPR"
      },
      "outputs": [
        {
          "name": "stderr",
          "output_type": "stream",
          "text": [
            "C:\\Users\\Люля\\AppData\\Local\\Temp\\ipykernel_260\\2432745783.py:1: UserWarning: pandas only supports SQLAlchemy connectable (engine/connection) or database string URI or sqlite3 DBAPI2 connection. Other DBAPI2 objects are not tested. Please consider using SQLAlchemy.\n",
            "  pd.read_sql_query(query_5_6, connection)\n"
          ]
        },
        {
          "data": {
            "text/html": [
              "<div>\n",
              "<style scoped>\n",
              "    .dataframe tbody tr th:only-of-type {\n",
              "        vertical-align: middle;\n",
              "    }\n",
              "\n",
              "    .dataframe tbody tr th {\n",
              "        vertical-align: top;\n",
              "    }\n",
              "\n",
              "    .dataframe thead th {\n",
              "        text-align: right;\n",
              "    }\n",
              "</style>\n",
              "<table border=\"1\" class=\"dataframe\">\n",
              "  <thead>\n",
              "    <tr style=\"text-align: right;\">\n",
              "      <th></th>\n",
              "      <th>name</th>\n",
              "      <th>employers_count</th>\n",
              "    </tr>\n",
              "  </thead>\n",
              "  <tbody>\n",
              "    <tr>\n",
              "      <th>0</th>\n",
              "      <td>Разработка программного обеспечения</td>\n",
              "      <td>3553</td>\n",
              "    </tr>\n",
              "  </tbody>\n",
              "</table>\n",
              "</div>"
            ],
            "text/plain": [
              "                                  name  employers_count\n",
              "0  Разработка программного обеспечения             3553"
            ]
          },
          "execution_count": 32,
          "metadata": {},
          "output_type": "execute_result"
        }
      ],
      "source": [
        "pd.read_sql_query(query_5_6, connection)"
      ]
    },
    {
      "cell_type": "markdown",
      "id": "7b02bb86-0546-40fb-94a4-242f050a5c57",
      "metadata": {
        "id": "7b02bb86-0546-40fb-94a4-242f050a5c57"
      },
      "source": [
        "7. Для компании «Яндекс» выведите список регионов-миллионников, в которых представлены вакансии компании, вместе с количеством вакансий в этих регионах. Также добавьте строку Total с общим количеством вакансий компании. Результат отсортируйте по возрастанию количества.\n",
        "\n",
        "Список городов-милионников надо взять [отсюда](https://ru.wikipedia.org/wiki/%D0%93%D0%BE%D1%80%D0%BE%D0%B4%D0%B0-%D0%BC%D0%B8%D0%BB%D0%BB%D0%B8%D0%BE%D0%BD%D0%B5%D1%80%D1%8B_%D0%A0%D0%BE%D1%81%D1%81%D0%B8%D0%B8). \n",
        "\n",
        "Если возникнут трудности с этим задание посмотрите материалы модуля  PYTHON-17. Как получать данные из веб-источников и API. "
      ]
    },
    {
      "cell_type": "code",
      "execution_count": 48,
      "id": "ZdfrL6gIs1Pn",
      "metadata": {
        "id": "ZdfrL6gIs1Pn"
      },
      "outputs": [],
      "source": [
        "#С соответствующей страницы Википедии выгружены данные, содержащие наименования городов-миллионеров.\n",
        "url = 'https://ru.wikipedia.org/wiki/Города-миллионеры_России#Список_городов-миллионеров'\n",
        "content = requests.get(url)\n",
        "soup = BeautifulSoup(content.text, 'html.parser')\n",
        "table = soup.find('table', class_='standard sortable').find_all('a')[4:]\n",
        "\n",
        "#Из выгруженных данных составлен список городов-миллионеров.\n",
        "cities = []\n",
        "for i in table:\n",
        "    table = i.text\n",
        "    cities.append(table)\n",
        "\n",
        "#Список очищен от лишней информации и преобразован в кортеж.\n",
        "cities.remove('[a]')\n",
        "cities = tuple(cities)\n",
        "    "
      ]
    },
    {
      "cell_type": "code",
      "execution_count": 63,
      "id": "5a0e32a4-e68a-4365-8a39-2fe24c542c36",
      "metadata": {
        "id": "5a0e32a4-e68a-4365-8a39-2fe24c542c36"
      },
      "outputs": [],
      "source": [
        "#К таблице с вакансиями присоединены таблицы с работодателями и регионами.\n",
        "#Данные сгруппированы по наименованию работодателя и региона.\n",
        "#Данные отфильрованы на предмет того, чтобы в наименование работодателя\n",
        "#был указан яндекс, а регион входил в список городов-миллионеров.\n",
        "#Первый запрос объединен с другим запросом, отражащим общее количество вакансий\n",
        "#Яндекса, размещенных в городах-миллионерах.\n",
        "query_5_7 = f'''select \n",
        "                   a.name as area,\n",
        "                   count (v.id) as vacancies\n",
        "                from\n",
        "                    public.vacancies as v\n",
        "                join \n",
        "                    public.employers as e on v.employer_id = e.id\n",
        "                join\n",
        "                    public.areas as a on v.area_id = a.id\n",
        "                group by\n",
        "                    e.name, a.name\n",
        "                having\n",
        "                    e.name = 'Яндекс' and a.name in {cities}\n",
        "                \n",
        "                UNION ALL\n",
        "                \n",
        "                select \n",
        "                   'total',\n",
        "                   count (v.id)\n",
        "                from\n",
        "                    public.vacancies as v\n",
        "                join \n",
        "                    public.employers as e on v.employer_id = e.id\n",
        "                join\n",
        "                    public.areas as a on v.area_id = a.id\n",
        "                where\n",
        "                    a.name in {cities}\n",
        "                group by\n",
        "                    e.name\n",
        "                having\n",
        "                    e.name = 'Яндекс'\n",
        "                order by\n",
        "                    2\n",
        "'''"
      ]
    },
    {
      "cell_type": "code",
      "execution_count": 64,
      "id": "ttPhiO1rsvPq",
      "metadata": {
        "id": "ttPhiO1rsvPq"
      },
      "outputs": [
        {
          "name": "stderr",
          "output_type": "stream",
          "text": [
            "C:\\Users\\Люля\\AppData\\Local\\Temp\\ipykernel_6568\\1216511710.py:2: UserWarning: pandas only supports SQLAlchemy connectable (engine/connection) or database string URI or sqlite3 DBAPI2 connection. Other DBAPI2 objects are not tested. Please consider using SQLAlchemy.\n",
            "  pd.read_sql_query(query_5_7, connection)\n"
          ]
        },
        {
          "data": {
            "text/html": [
              "<div>\n",
              "<style scoped>\n",
              "    .dataframe tbody tr th:only-of-type {\n",
              "        vertical-align: middle;\n",
              "    }\n",
              "\n",
              "    .dataframe tbody tr th {\n",
              "        vertical-align: top;\n",
              "    }\n",
              "\n",
              "    .dataframe thead th {\n",
              "        text-align: right;\n",
              "    }\n",
              "</style>\n",
              "<table border=\"1\" class=\"dataframe\">\n",
              "  <thead>\n",
              "    <tr style=\"text-align: right;\">\n",
              "      <th></th>\n",
              "      <th>area</th>\n",
              "      <th>vacancies</th>\n",
              "    </tr>\n",
              "  </thead>\n",
              "  <tbody>\n",
              "    <tr>\n",
              "      <th>0</th>\n",
              "      <td>Омск</td>\n",
              "      <td>21</td>\n",
              "    </tr>\n",
              "    <tr>\n",
              "      <th>1</th>\n",
              "      <td>Челябинск</td>\n",
              "      <td>22</td>\n",
              "    </tr>\n",
              "    <tr>\n",
              "      <th>2</th>\n",
              "      <td>Красноярск</td>\n",
              "      <td>23</td>\n",
              "    </tr>\n",
              "    <tr>\n",
              "      <th>3</th>\n",
              "      <td>Волгоград</td>\n",
              "      <td>24</td>\n",
              "    </tr>\n",
              "    <tr>\n",
              "      <th>4</th>\n",
              "      <td>Пермь</td>\n",
              "      <td>25</td>\n",
              "    </tr>\n",
              "    <tr>\n",
              "      <th>5</th>\n",
              "      <td>Казань</td>\n",
              "      <td>25</td>\n",
              "    </tr>\n",
              "    <tr>\n",
              "      <th>6</th>\n",
              "      <td>Ростов-на-Дону</td>\n",
              "      <td>25</td>\n",
              "    </tr>\n",
              "    <tr>\n",
              "      <th>7</th>\n",
              "      <td>Уфа</td>\n",
              "      <td>26</td>\n",
              "    </tr>\n",
              "    <tr>\n",
              "      <th>8</th>\n",
              "      <td>Самара</td>\n",
              "      <td>26</td>\n",
              "    </tr>\n",
              "    <tr>\n",
              "      <th>9</th>\n",
              "      <td>Краснодар</td>\n",
              "      <td>30</td>\n",
              "    </tr>\n",
              "    <tr>\n",
              "      <th>10</th>\n",
              "      <td>Воронеж</td>\n",
              "      <td>32</td>\n",
              "    </tr>\n",
              "    <tr>\n",
              "      <th>11</th>\n",
              "      <td>Новосибирск</td>\n",
              "      <td>35</td>\n",
              "    </tr>\n",
              "    <tr>\n",
              "      <th>12</th>\n",
              "      <td>Нижний Новгород</td>\n",
              "      <td>36</td>\n",
              "    </tr>\n",
              "    <tr>\n",
              "      <th>13</th>\n",
              "      <td>Екатеринбург</td>\n",
              "      <td>39</td>\n",
              "    </tr>\n",
              "    <tr>\n",
              "      <th>14</th>\n",
              "      <td>Санкт-Петербург</td>\n",
              "      <td>42</td>\n",
              "    </tr>\n",
              "    <tr>\n",
              "      <th>15</th>\n",
              "      <td>Москва</td>\n",
              "      <td>54</td>\n",
              "    </tr>\n",
              "    <tr>\n",
              "      <th>16</th>\n",
              "      <td>total</td>\n",
              "      <td>485</td>\n",
              "    </tr>\n",
              "  </tbody>\n",
              "</table>\n",
              "</div>"
            ],
            "text/plain": [
              "               area  vacancies\n",
              "0              Омск         21\n",
              "1         Челябинск         22\n",
              "2        Красноярск         23\n",
              "3         Волгоград         24\n",
              "4             Пермь         25\n",
              "5            Казань         25\n",
              "6    Ростов-на-Дону         25\n",
              "7               Уфа         26\n",
              "8            Самара         26\n",
              "9         Краснодар         30\n",
              "10          Воронеж         32\n",
              "11      Новосибирск         35\n",
              "12  Нижний Новгород         36\n",
              "13     Екатеринбург         39\n",
              "14  Санкт-Петербург         42\n",
              "15           Москва         54\n",
              "16            total        485"
            ]
          },
          "execution_count": 64,
          "metadata": {},
          "output_type": "execute_result"
        }
      ],
      "source": [
        "pd.read_sql_query(query_5_7, connection)"
      ]
    },
    {
      "cell_type": "markdown",
      "id": "04966e40-3bc3-4dc8-9ba2-e80580ce3abc",
      "metadata": {
        "id": "04966e40-3bc3-4dc8-9ba2-e80580ce3abc"
      },
      "source": [
        "***"
      ]
    },
    {
      "cell_type": "code",
      "execution_count": 60,
      "id": "e9136db6",
      "metadata": {},
      "outputs": [],
      "source": [
        "#Составлен запрос, позволяющий понять, сколько ваканкий разместили работодатели,\n",
        "#у которых в сфере деятельности указана разработка ПО.\n",
        "#Для составления запрос к таблице с вакансиями присоединены таблицы с работодателями,\n",
        "#индексом сфер деятельности, наименованием сфер деятельности.\n",
        "#Данные отфильтрованы на предмет того, чтобы в сфере деятельности была указана разработка ПО,\n",
        "#и сгруппированы по наименованию работодателя.\n",
        "query_5_add_1 = f'''select \n",
        "                        e.name as employers,\n",
        "                        count(v.id) as vacancies_count\n",
        "                    from \n",
        "                        public.vacancies as v\n",
        "                    join \n",
        "                        public.employers as e on v.employer_id = e.id\n",
        "                    join \n",
        "                        public.employers_industries as ei on ei.employer_id = e.id\n",
        "                    join\n",
        "                        public.industries as i on ei.industry_id = i.id\n",
        "                    where\n",
        "                        i.name = 'Разработка программного обеспечения'\n",
        "                    group by \n",
        "                        e.name\n",
        "                    order by \n",
        "                        count(v.id) desc             \n",
        "'''"
      ]
    },
    {
      "cell_type": "code",
      "execution_count": 59,
      "id": "ff2acf6c",
      "metadata": {},
      "outputs": [
        {
          "name": "stderr",
          "output_type": "stream",
          "text": [
            "C:\\Users\\Люля\\AppData\\Local\\Temp\\ipykernel_7144\\2640994870.py:1: UserWarning: pandas only supports SQLAlchemy connectable (engine/connection) or database string URI or sqlite3 DBAPI2 connection. Other DBAPI2 objects are not tested. Please consider using SQLAlchemy.\n",
            "  pd.read_sql_query(query_5_add_1, connection)\n"
          ]
        },
        {
          "data": {
            "text/html": [
              "<div>\n",
              "<style scoped>\n",
              "    .dataframe tbody tr th:only-of-type {\n",
              "        vertical-align: middle;\n",
              "    }\n",
              "\n",
              "    .dataframe tbody tr th {\n",
              "        vertical-align: top;\n",
              "    }\n",
              "\n",
              "    .dataframe thead th {\n",
              "        text-align: right;\n",
              "    }\n",
              "</style>\n",
              "<table border=\"1\" class=\"dataframe\">\n",
              "  <thead>\n",
              "    <tr style=\"text-align: right;\">\n",
              "      <th></th>\n",
              "      <th>employers</th>\n",
              "      <th>vacancies_count</th>\n",
              "      <th>areas</th>\n",
              "    </tr>\n",
              "  </thead>\n",
              "  <tbody>\n",
              "    <tr>\n",
              "      <th>0</th>\n",
              "      <td>Тинькофф</td>\n",
              "      <td>444</td>\n",
              "      <td>43</td>\n",
              "    </tr>\n",
              "    <tr>\n",
              "      <th>1</th>\n",
              "      <td>DataArt</td>\n",
              "      <td>247</td>\n",
              "      <td>2</td>\n",
              "    </tr>\n",
              "    <tr>\n",
              "      <th>2</th>\n",
              "      <td>Совкомбанк Технологии</td>\n",
              "      <td>204</td>\n",
              "      <td>26</td>\n",
              "    </tr>\n",
              "    <tr>\n",
              "      <th>3</th>\n",
              "      <td>IBS</td>\n",
              "      <td>175</td>\n",
              "      <td>36</td>\n",
              "    </tr>\n",
              "    <tr>\n",
              "      <th>4</th>\n",
              "      <td>Тензор</td>\n",
              "      <td>155</td>\n",
              "      <td>25</td>\n",
              "    </tr>\n",
              "    <tr>\n",
              "      <th>...</th>\n",
              "      <td>...</td>\n",
              "      <td>...</td>\n",
              "      <td>...</td>\n",
              "    </tr>\n",
              "    <tr>\n",
              "      <th>2579</th>\n",
              "      <td>Индустрия делового программного обеспечения</td>\n",
              "      <td>1</td>\n",
              "      <td>1</td>\n",
              "    </tr>\n",
              "    <tr>\n",
              "      <th>2580</th>\n",
              "      <td>Айтекс, Центр Информационных Технологий</td>\n",
              "      <td>1</td>\n",
              "      <td>1</td>\n",
              "    </tr>\n",
              "    <tr>\n",
              "      <th>2581</th>\n",
              "      <td>Айтек</td>\n",
              "      <td>1</td>\n",
              "      <td>1</td>\n",
              "    </tr>\n",
              "    <tr>\n",
              "      <th>2582</th>\n",
              "      <td>ИНКОМ, группа компаний</td>\n",
              "      <td>1</td>\n",
              "      <td>1</td>\n",
              "    </tr>\n",
              "    <tr>\n",
              "      <th>2583</th>\n",
              "      <td>Файтексорс Санкт-Петербург</td>\n",
              "      <td>1</td>\n",
              "      <td>1</td>\n",
              "    </tr>\n",
              "  </tbody>\n",
              "</table>\n",
              "<p>2584 rows × 3 columns</p>\n",
              "</div>"
            ],
            "text/plain": [
              "                                        employers  vacancies_count  areas\n",
              "0                                        Тинькофф              444     43\n",
              "1                                         DataArt              247      2\n",
              "2                           Совкомбанк Технологии              204     26\n",
              "3                                             IBS              175     36\n",
              "4                                          Тензор              155     25\n",
              "...                                           ...              ...    ...\n",
              "2579  Индустрия делового программного обеспечения                1      1\n",
              "2580      Айтекс, Центр Информационных Технологий                1      1\n",
              "2581                                        Айтек                1      1\n",
              "2582                       ИНКОМ, группа компаний                1      1\n",
              "2583                   Файтексорс Санкт-Петербург                1      1\n",
              "\n",
              "[2584 rows x 3 columns]"
            ]
          },
          "execution_count": 59,
          "metadata": {},
          "output_type": "execute_result"
        }
      ],
      "source": [
        "pd.read_sql_query(query_5_add_1, connection)"
      ]
    },
    {
      "cell_type": "code",
      "execution_count": 37,
      "id": "5974d50b",
      "metadata": {},
      "outputs": [],
      "source": [
        "#Составлен запрос, показывающий работодателей, кто не разместил ни одной вакансии.\n",
        "#К таблице с работодателями присодинена таблица с вакансиями.\n",
        "#Данные сгруппированы по наименования компании и отфилтрованы на предмет того, чтобы\n",
        "#количество размещенных вакансий равнялось нулю.\n",
        "query_5_add_2 = f'''select \n",
        "                        e.name\n",
        "                    from \n",
        "                        public.employers as e\n",
        "                    left join\n",
        "                        public.vacancies as v on v.employer_id = e.id\n",
        "                    group by \n",
        "                        e.id\n",
        "                    having\n",
        "                        count(v.id) = 0\n",
        "'''"
      ]
    },
    {
      "cell_type": "code",
      "execution_count": 38,
      "id": "09b54b4e",
      "metadata": {},
      "outputs": [
        {
          "name": "stderr",
          "output_type": "stream",
          "text": [
            "C:\\Users\\Люля\\AppData\\Local\\Temp\\ipykernel_260\\3456868961.py:1: UserWarning: pandas only supports SQLAlchemy connectable (engine/connection) or database string URI or sqlite3 DBAPI2 connection. Other DBAPI2 objects are not tested. Please consider using SQLAlchemy.\n",
            "  pd.read_sql_query(query_5_add_2, connection)\n"
          ]
        },
        {
          "data": {
            "text/html": [
              "<div>\n",
              "<style scoped>\n",
              "    .dataframe tbody tr th:only-of-type {\n",
              "        vertical-align: middle;\n",
              "    }\n",
              "\n",
              "    .dataframe tbody tr th {\n",
              "        vertical-align: top;\n",
              "    }\n",
              "\n",
              "    .dataframe thead th {\n",
              "        text-align: right;\n",
              "    }\n",
              "</style>\n",
              "<table border=\"1\" class=\"dataframe\">\n",
              "  <thead>\n",
              "    <tr style=\"text-align: right;\">\n",
              "      <th></th>\n",
              "      <th>name</th>\n",
              "    </tr>\n",
              "  </thead>\n",
              "  <tbody>\n",
              "    <tr>\n",
              "      <th>0</th>\n",
              "      <td>Северо-Западный Информационно-Мониторинговый Ц...</td>\n",
              "    </tr>\n",
              "    <tr>\n",
              "      <th>1</th>\n",
              "      <td>АВГ Инженерные Системы</td>\n",
              "    </tr>\n",
              "    <tr>\n",
              "      <th>2</th>\n",
              "      <td>КЕЛС</td>\n",
              "    </tr>\n",
              "    <tr>\n",
              "      <th>3</th>\n",
              "      <td>PR</td>\n",
              "    </tr>\n",
              "    <tr>\n",
              "      <th>4</th>\n",
              "      <td>ПКФ Станкор</td>\n",
              "    </tr>\n",
              "    <tr>\n",
              "      <th>...</th>\n",
              "      <td>...</td>\n",
              "    </tr>\n",
              "    <tr>\n",
              "      <th>8590</th>\n",
              "      <td>Винтаж</td>\n",
              "    </tr>\n",
              "    <tr>\n",
              "      <th>8591</th>\n",
              "      <td>Скайлинк</td>\n",
              "    </tr>\n",
              "    <tr>\n",
              "      <th>8592</th>\n",
              "      <td>Whitecliff Investment Management</td>\n",
              "    </tr>\n",
              "    <tr>\n",
              "      <th>8593</th>\n",
              "      <td>TransPerfect</td>\n",
              "    </tr>\n",
              "    <tr>\n",
              "      <th>8594</th>\n",
              "      <td>GLOSS|Студия Кухни</td>\n",
              "    </tr>\n",
              "  </tbody>\n",
              "</table>\n",
              "<p>8595 rows × 1 columns</p>\n",
              "</div>"
            ],
            "text/plain": [
              "                                                   name\n",
              "0     Северо-Западный Информационно-Мониторинговый Ц...\n",
              "1                                АВГ Инженерные Системы\n",
              "2                                                  КЕЛС\n",
              "3                                                    PR\n",
              "4                                           ПКФ Станкор\n",
              "...                                                 ...\n",
              "8590                                             Винтаж\n",
              "8591                                           Скайлинк\n",
              "8592                   Whitecliff Investment Management\n",
              "8593                                       TransPerfect\n",
              "8594                                 GLOSS|Студия Кухни\n",
              "\n",
              "[8595 rows x 1 columns]"
            ]
          },
          "execution_count": 38,
          "metadata": {},
          "output_type": "execute_result"
        }
      ],
      "source": [
        "pd.read_sql_query(query_5_add_2, connection)"
      ]
    },
    {
      "cell_type": "code",
      "execution_count": null,
      "id": "aGGyER-yt4SR",
      "metadata": {
        "id": "aGGyER-yt4SR"
      },
      "outputs": [],
      "source": [
        "#Крупнейшим работодателем в базе данных является компания Яндекс.\n",
        "#При этом около четверти вакансий Яндекса представлены в городах миллионниках,\n",
        "#остальные 3/4 приходятся на 165 других регионов.\n",
        "#Около трети работодателей не указали своей сферы деятельности, \n",
        "#разработка ПО указана в качестве сферы деятельности примерно у 15% работодателей.\n",
        "#У многих работодателей указано несколько сфер деятельности.\n",
        "#Однако многие крупнейшие работодатели из базы не указали разработки ПО в качестве сферы деятельности.\n",
        "#В базе 8 595 работодателей и 593 региона без вакансий.\n",
        "#Предлагается более детально проанализировать работодатели в каких сферах деятельности ищут специалистов на вакансию Data Scientist,\n",
        "#по возможности заполнить сферу деятельности у работодателей, где она отсутствует.\n",
        "#На основании проведенного анализа очистить данные от лишних работодателей и регионов."
      ]
    },
    {
      "cell_type": "markdown",
      "id": "b1ef156a-efcb-49ce-bb23-90763e7f35b2",
      "metadata": {
        "id": "b1ef156a-efcb-49ce-bb23-90763e7f35b2",
        "tags": []
      },
      "source": [
        "# Юнит 6. Предметный анализ"
      ]
    },
    {
      "cell_type": "markdown",
      "id": "b9cd50a0-992d-4988-8463-2b2b1c4629b4",
      "metadata": {
        "id": "b9cd50a0-992d-4988-8463-2b2b1c4629b4"
      },
      "source": [
        "1. Сколько вакансий имеет отношение к данным?\n",
        "\n",
        "Считаем, что вакансия имеет отношение к данным, если в её названии содержатся слова 'data' или 'данн'.\n",
        "\n",
        "*Подсказка: Обратите внимание, что названия вакансий могут быть написаны в любом регистре.* \n"
      ]
    },
    {
      "cell_type": "code",
      "execution_count": 77,
      "id": "54ab0e50-c0f1-47cc-a54b-bc5c8bc363f9",
      "metadata": {
        "id": "54ab0e50-c0f1-47cc-a54b-bc5c8bc363f9"
      },
      "outputs": [],
      "source": [
        "#Данные по вакансиям отфильрованы на предмет наличия в их названиях\n",
        "#сочетаний 'data' или 'данн'.\n",
        "query_6_1 = f'''select \n",
        "                   count(*) as data_vacancies\n",
        "                from\n",
        "                    public.vacancies\n",
        "                where\n",
        "                    lower(name) like '%data%' or lower(name) like '%данн%'\n",
        "'''"
      ]
    },
    {
      "cell_type": "code",
      "execution_count": 78,
      "id": "9F1meAqsuUjd",
      "metadata": {
        "id": "9F1meAqsuUjd"
      },
      "outputs": [
        {
          "name": "stderr",
          "output_type": "stream",
          "text": [
            "C:\\Users\\Люля\\AppData\\Local\\Temp\\ipykernel_6568\\2603769340.py:2: UserWarning: pandas only supports SQLAlchemy connectable (engine/connection) or database string URI or sqlite3 DBAPI2 connection. Other DBAPI2 objects are not tested. Please consider using SQLAlchemy.\n",
            "  pd.read_sql_query(query_6_1, connection)\n"
          ]
        },
        {
          "data": {
            "text/html": [
              "<div>\n",
              "<style scoped>\n",
              "    .dataframe tbody tr th:only-of-type {\n",
              "        vertical-align: middle;\n",
              "    }\n",
              "\n",
              "    .dataframe tbody tr th {\n",
              "        vertical-align: top;\n",
              "    }\n",
              "\n",
              "    .dataframe thead th {\n",
              "        text-align: right;\n",
              "    }\n",
              "</style>\n",
              "<table border=\"1\" class=\"dataframe\">\n",
              "  <thead>\n",
              "    <tr style=\"text-align: right;\">\n",
              "      <th></th>\n",
              "      <th>data_vacancies</th>\n",
              "    </tr>\n",
              "  </thead>\n",
              "  <tbody>\n",
              "    <tr>\n",
              "      <th>0</th>\n",
              "      <td>1771</td>\n",
              "    </tr>\n",
              "  </tbody>\n",
              "</table>\n",
              "</div>"
            ],
            "text/plain": [
              "   data_vacancies\n",
              "0            1771"
            ]
          },
          "execution_count": 78,
          "metadata": {},
          "output_type": "execute_result"
        }
      ],
      "source": [
        "pd.read_sql_query(query_6_1, connection)"
      ]
    },
    {
      "cell_type": "markdown",
      "id": "4dea20cb-a36b-474a-a0b9-e08e8e3857a5",
      "metadata": {
        "id": "4dea20cb-a36b-474a-a0b9-e08e8e3857a5"
      },
      "source": [
        "2. Сколько есть подходящих вакансий для начинающего дата-сайентиста? \n",
        "Будем считать вакансиями для дата-сайентистов такие, в названии которых есть хотя бы одно из следующих сочетаний:\n",
        "* 'data scientist'\n",
        "* 'data science'\n",
        "* 'исследователь данных'\n",
        "* 'ML' (здесь не нужно брать вакансии по HTML)\n",
        "* 'machine learning'\n",
        "* 'машинн%обучен%'\n",
        "\n",
        "** В следующих заданиях мы продолжим работать с вакансиями по этому условию.*\n",
        "\n",
        "Считаем вакансиями для специалистов уровня Junior следующие:\n",
        "* в названии есть слово 'junior' *или*\n",
        "* требуемый опыт — Нет опыта *или*\n",
        "* тип трудоустройства — Стажировка.\n",
        " "
      ]
    },
    {
      "cell_type": "code",
      "execution_count": 112,
      "id": "9c61b3c0-bb66-46c9-ae1e-81d3f5752b4a",
      "metadata": {
        "id": "9c61b3c0-bb66-46c9-ae1e-81d3f5752b4a"
      },
      "outputs": [],
      "source": [
        "#Данные по вакансиям отфильрованы на предмет наличия в их названиях\n",
        "#сочетаний 'data scientist','data science','исследователь данных', 'ML',\n",
        "#'machine learning','HTML', что свидетельствует о том, что они относятся к data science.\n",
        "#Дополнительно данные отсортированы на предмет наличия в названии сочетания 'junior',\n",
        "#отсуствия опыта в требуемом опыте или стажировки в типе трудоустройства, что говорит\n",
        "#о том, что вакансия относится к уровню junior.\n",
        "query_6_2 = f'''select \n",
        "                   count(*) as junior_data_vacancies\n",
        "                from\n",
        "                    public.vacancies\n",
        "                where\n",
        "                    (lower(name) like '%data scientist%'\n",
        "                    or lower(name) like '%data science%'\n",
        "                    or lower(name) like '%исследователь данных%'\n",
        "                    or name like '%ML%'\n",
        "                    or lower(name) like '%machine learning%'\n",
        "                    or lower(name) like '%машинн%обучен%')\n",
        "                    and name not like '%HTML%'\n",
        "                    and (lower(name) like '%junior%'\n",
        "                    or experience = 'Нет опыта'\n",
        "                    or employment = 'Стажировка')\n",
        "'''"
      ]
    },
    {
      "cell_type": "code",
      "execution_count": 113,
      "id": "ZNM-LLYuu1dj",
      "metadata": {
        "id": "ZNM-LLYuu1dj"
      },
      "outputs": [
        {
          "name": "stderr",
          "output_type": "stream",
          "text": [
            "C:\\Users\\Люля\\AppData\\Local\\Temp\\ipykernel_6568\\2428688723.py:2: UserWarning: pandas only supports SQLAlchemy connectable (engine/connection) or database string URI or sqlite3 DBAPI2 connection. Other DBAPI2 objects are not tested. Please consider using SQLAlchemy.\n",
            "  pd.read_sql_query(query_6_2, connection)\n"
          ]
        },
        {
          "data": {
            "text/html": [
              "<div>\n",
              "<style scoped>\n",
              "    .dataframe tbody tr th:only-of-type {\n",
              "        vertical-align: middle;\n",
              "    }\n",
              "\n",
              "    .dataframe tbody tr th {\n",
              "        vertical-align: top;\n",
              "    }\n",
              "\n",
              "    .dataframe thead th {\n",
              "        text-align: right;\n",
              "    }\n",
              "</style>\n",
              "<table border=\"1\" class=\"dataframe\">\n",
              "  <thead>\n",
              "    <tr style=\"text-align: right;\">\n",
              "      <th></th>\n",
              "      <th>junior_data_vacancies</th>\n",
              "    </tr>\n",
              "  </thead>\n",
              "  <tbody>\n",
              "    <tr>\n",
              "      <th>0</th>\n",
              "      <td>51</td>\n",
              "    </tr>\n",
              "  </tbody>\n",
              "</table>\n",
              "</div>"
            ],
            "text/plain": [
              "   junior_data_vacancies\n",
              "0                     51"
            ]
          },
          "execution_count": 113,
          "metadata": {},
          "output_type": "execute_result"
        }
      ],
      "source": [
        "pd.read_sql_query(query_6_2, connection)"
      ]
    },
    {
      "cell_type": "markdown",
      "id": "eedceb80-c5ca-480e-b27a-278dfb8b4438",
      "metadata": {
        "id": "eedceb80-c5ca-480e-b27a-278dfb8b4438"
      },
      "source": [
        "3. Сколько есть вакансий для DS, в которых в качестве ключевого навыка указан SQL или postgres?\n",
        "\n",
        "** Критерии для отнесения вакансии к DS указаны в предыдущем задании.*"
      ]
    },
    {
      "cell_type": "code",
      "execution_count": 73,
      "id": "69621713-0cc5-4f1b-a1d7-bb144fa6148c",
      "metadata": {
        "id": "69621713-0cc5-4f1b-a1d7-bb144fa6148c"
      },
      "outputs": [],
      "source": [
        "#Данные по вакансиям отфильрованы на предмет наличия в их названиях\n",
        "#сочетаний 'data scientist','data science','исследователь данных', 'ML',\n",
        "#'machine learning','HTML', что свидетельствует о том, что они относятся к data science.\n",
        "#Дополнительно данные отсортированы на предмет наличия в ключевых навыках сочетаний 'SQL' и 'postgres'.\n",
        "query_6_3 = f'''select \n",
        "                   count(*) as sql_or_postgres\n",
        "                from\n",
        "                    public.vacancies\n",
        "                where\n",
        "                    (lower(name) like '%data scientist%'\n",
        "                    or lower(name) like '%data science%'\n",
        "                    or lower(name) like '%исследователь данных%'\n",
        "                    or name like '%ML%'\n",
        "                    or lower(name) like '%machine learning%'\n",
        "                    or lower(name) like '%машинн%обучен%')\n",
        "                    and name not like '%HTML%'\n",
        "                    and (key_skills like '%SQL%'\n",
        "                    or key_skills like '%postgres%')\n",
        "'''"
      ]
    },
    {
      "cell_type": "code",
      "execution_count": 74,
      "id": "alA8WEAAvGdf",
      "metadata": {
        "id": "alA8WEAAvGdf"
      },
      "outputs": [
        {
          "name": "stderr",
          "output_type": "stream",
          "text": [
            "C:\\Users\\Люля\\AppData\\Local\\Temp\\ipykernel_7144\\3902879435.py:2: UserWarning: pandas only supports SQLAlchemy connectable (engine/connection) or database string URI or sqlite3 DBAPI2 connection. Other DBAPI2 objects are not tested. Please consider using SQLAlchemy.\n",
            "  pd.read_sql_query(query_6_3, connection)\n"
          ]
        },
        {
          "data": {
            "text/html": [
              "<div>\n",
              "<style scoped>\n",
              "    .dataframe tbody tr th:only-of-type {\n",
              "        vertical-align: middle;\n",
              "    }\n",
              "\n",
              "    .dataframe tbody tr th {\n",
              "        vertical-align: top;\n",
              "    }\n",
              "\n",
              "    .dataframe thead th {\n",
              "        text-align: right;\n",
              "    }\n",
              "</style>\n",
              "<table border=\"1\" class=\"dataframe\">\n",
              "  <thead>\n",
              "    <tr style=\"text-align: right;\">\n",
              "      <th></th>\n",
              "      <th>sql_or_postgres</th>\n",
              "    </tr>\n",
              "  </thead>\n",
              "  <tbody>\n",
              "    <tr>\n",
              "      <th>0</th>\n",
              "      <td>201</td>\n",
              "    </tr>\n",
              "  </tbody>\n",
              "</table>\n",
              "</div>"
            ],
            "text/plain": [
              "   sql_or_postgres\n",
              "0              201"
            ]
          },
          "execution_count": 74,
          "metadata": {},
          "output_type": "execute_result"
        }
      ],
      "source": [
        "pd.read_sql_query(query_6_3, connection)"
      ]
    },
    {
      "cell_type": "markdown",
      "id": "1be1e9c6-37cf-4a5f-bfeb-04cab799dc80",
      "metadata": {
        "id": "1be1e9c6-37cf-4a5f-bfeb-04cab799dc80"
      },
      "source": [
        "4. Проверьте, насколько популярен Python в требованиях работодателей к DS.Для этого вычислите количество вакансий, в которых в качестве ключевого навыка указан Python.\n",
        "\n",
        "** Это можно сделать помощью запроса, аналогичного предыдущему.*"
      ]
    },
    {
      "cell_type": "code",
      "execution_count": 75,
      "id": "0036a355-9ccf-4564-8b01-73d8194297e7",
      "metadata": {
        "id": "0036a355-9ccf-4564-8b01-73d8194297e7"
      },
      "outputs": [],
      "source": [
        "#Данные по вакансиям отфильрованы на предмет наличия в их названиях\n",
        "#сочетаний 'data scientist','data science','исследователь данных', 'ML',\n",
        "#'machine learning','HTML', что свидетельствует о том, что они относятся к data science.\n",
        "#Дополнительно данные отсортированы на предмет наличия в ключевых навыках сочетания 'python'.\n",
        "query_6_4 = f'''select \n",
        "                   count(*) as python_vacancies\n",
        "                from\n",
        "                    public.vacancies\n",
        "                where\n",
        "                    (lower(name) like '%data scientist%'\n",
        "                    or lower(name) like '%data science%'\n",
        "                    or lower(name) like '%исследователь данных%'\n",
        "                    or name like '%ML%'\n",
        "                    or lower(name) like '%machine learning%'\n",
        "                    or lower(name) like '%машинн%обучен%')\n",
        "                    and name not like '%HTML%'\n",
        "                    and lower(key_skills) like '%python%'\n",
        "'''"
      ]
    },
    {
      "cell_type": "code",
      "execution_count": 76,
      "id": "1i-5WyucvQ6v",
      "metadata": {
        "id": "1i-5WyucvQ6v"
      },
      "outputs": [
        {
          "name": "stderr",
          "output_type": "stream",
          "text": [
            "C:\\Users\\Люля\\AppData\\Local\\Temp\\ipykernel_7144\\2548700122.py:2: UserWarning: pandas only supports SQLAlchemy connectable (engine/connection) or database string URI or sqlite3 DBAPI2 connection. Other DBAPI2 objects are not tested. Please consider using SQLAlchemy.\n",
            "  pd.read_sql_query(query_6_4, connection)\n"
          ]
        },
        {
          "data": {
            "text/html": [
              "<div>\n",
              "<style scoped>\n",
              "    .dataframe tbody tr th:only-of-type {\n",
              "        vertical-align: middle;\n",
              "    }\n",
              "\n",
              "    .dataframe tbody tr th {\n",
              "        vertical-align: top;\n",
              "    }\n",
              "\n",
              "    .dataframe thead th {\n",
              "        text-align: right;\n",
              "    }\n",
              "</style>\n",
              "<table border=\"1\" class=\"dataframe\">\n",
              "  <thead>\n",
              "    <tr style=\"text-align: right;\">\n",
              "      <th></th>\n",
              "      <th>python_vacancies</th>\n",
              "    </tr>\n",
              "  </thead>\n",
              "  <tbody>\n",
              "    <tr>\n",
              "      <th>0</th>\n",
              "      <td>351</td>\n",
              "    </tr>\n",
              "  </tbody>\n",
              "</table>\n",
              "</div>"
            ],
            "text/plain": [
              "   python_vacancies\n",
              "0               351"
            ]
          },
          "execution_count": 76,
          "metadata": {},
          "output_type": "execute_result"
        }
      ],
      "source": [
        "pd.read_sql_query(query_6_4, connection)"
      ]
    },
    {
      "cell_type": "markdown",
      "id": "ec3c8db7-fa21-4a41-a994-1af63742a642",
      "metadata": {
        "id": "ec3c8db7-fa21-4a41-a994-1af63742a642"
      },
      "source": [
        "5. Сколько ключевых навыков в среднем указывают в вакансиях для DS?\n",
        "Ответ округлите до двух знаков после точки-разделителя."
      ]
    },
    {
      "cell_type": "code",
      "execution_count": 151,
      "id": "949132bc-d5b6-4611-8218-0b9a504d74f4",
      "metadata": {
        "id": "949132bc-d5b6-4611-8218-0b9a504d74f4"
      },
      "outputs": [],
      "source": [
        "#Данные по вакансиям отфильрованы на предмет наличия в их названиях\n",
        "#сочетаний 'data scientist','data science','исследователь данных', 'ML',\n",
        "#'machine learning','HTML', что свидетельствует о том, что они относятся к data science.\n",
        "#Дополнительно данные отсортированы на предмет отсутствия данных о ключевых навыках.\n",
        "#Для вычисления среднего числа навыков мы рассчитали общую длинну строки с указанием навыков\n",
        "#и вычли из нее длинну строки, в которой убрали разделение между навыками, и чтобы учесть\n",
        "#первый навык в списке прибавили один. От полученного значения мы вычислили среднее.\n",
        "query_6_5 = f'''select \n",
        "                  round(avg(length(key_skills) - length(replace(key_skills, CHR(9), '')) +1), 2) as avg_skills_number\n",
        "                from\n",
        "                    public.vacancies\n",
        "                where\n",
        "                    (lower(name) like '%data scientist%'\n",
        "                    or lower(name) like '%data science%'\n",
        "                    or lower(name) like '%исследователь данных%'\n",
        "                    or name like '%ML%'\n",
        "                    or lower(name) like '%machine learning%'\n",
        "                    or lower(name) like '%машинн%обучен%')\n",
        "                    and name not like '%HTML%'\n",
        "                    and key_skills is not null\n",
        "'''"
      ]
    },
    {
      "cell_type": "code",
      "execution_count": 152,
      "id": "a3V24Tvmviqk",
      "metadata": {
        "id": "a3V24Tvmviqk"
      },
      "outputs": [
        {
          "name": "stderr",
          "output_type": "stream",
          "text": [
            "C:\\Users\\Люля\\AppData\\Local\\Temp\\ipykernel_6568\\3854041181.py:2: UserWarning: pandas only supports SQLAlchemy connectable (engine/connection) or database string URI or sqlite3 DBAPI2 connection. Other DBAPI2 objects are not tested. Please consider using SQLAlchemy.\n",
            "  pd.read_sql_query(query_6_5, connection)\n"
          ]
        },
        {
          "data": {
            "text/html": [
              "<div>\n",
              "<style scoped>\n",
              "    .dataframe tbody tr th:only-of-type {\n",
              "        vertical-align: middle;\n",
              "    }\n",
              "\n",
              "    .dataframe tbody tr th {\n",
              "        vertical-align: top;\n",
              "    }\n",
              "\n",
              "    .dataframe thead th {\n",
              "        text-align: right;\n",
              "    }\n",
              "</style>\n",
              "<table border=\"1\" class=\"dataframe\">\n",
              "  <thead>\n",
              "    <tr style=\"text-align: right;\">\n",
              "      <th></th>\n",
              "      <th>avg_skills_number</th>\n",
              "    </tr>\n",
              "  </thead>\n",
              "  <tbody>\n",
              "    <tr>\n",
              "      <th>0</th>\n",
              "      <td>6.41</td>\n",
              "    </tr>\n",
              "  </tbody>\n",
              "</table>\n",
              "</div>"
            ],
            "text/plain": [
              "   avg_skills_number\n",
              "0               6.41"
            ]
          },
          "execution_count": 152,
          "metadata": {},
          "output_type": "execute_result"
        }
      ],
      "source": [
        "pd.read_sql_query(query_6_5, connection)"
      ]
    },
    {
      "cell_type": "markdown",
      "id": "1041c17a-ca8f-4543-a0ca-32778914fb00",
      "metadata": {
        "id": "1041c17a-ca8f-4543-a0ca-32778914fb00"
      },
      "source": [
        "6. Напишите запрос, позволяющий вычислить, какую зарплату для DS в **среднем** указывают для каждого типа требуемого опыта (уникальное значение из поля *experience*). \n",
        "\n",
        "При решении задачи примите во внимание следующее:\n",
        "1. Рассматриваем только вакансии, у которых заполнено хотя бы одно из двух полей с зарплатой.\n",
        "2. Если заполнены оба поля с зарплатой, то считаем зарплату по каждой вакансии как сумму двух полей, делённую на 2. Если заполнено только одно из полей, то его и считаем зарплатой по вакансии.\n",
        "3. Если в расчётах участвует null, в результате он тоже даст null (посмотрите, что возвращает запрос select 1 + null). Чтобы избежать этой ситуацию, мы воспользуемся функцией [coalesce](https://postgrespro.ru/docs/postgresql/9.5/functions-conditional#functions-coalesce-nvl-ifnull), которая заменит null на значение, которое мы передадим. Например, посмотрите, что возвращает запрос `select 1 + coalesce(null, 0)`\n",
        "\n",
        "Выясните, на какую зарплату в среднем может рассчитывать дата-сайентист с опытом работы от 3 до 6 лет. Результат округлите до целого числа. "
      ]
    },
    {
      "cell_type": "code",
      "execution_count": 85,
      "id": "6a743d39-5204-48d3-8271-b9f88e68d40e",
      "metadata": {
        "id": "6a743d39-5204-48d3-8271-b9f88e68d40e"
      },
      "outputs": [],
      "source": [
        "#Данные по вакансиям отфильрованы на предмет наличия в их названиях\n",
        "#сочетаний 'data scientist','data science','исследователь данных', 'ML',\n",
        "#'machine learning','HTML', что свидетельствует о том, что они относятся к data science.\n",
        "#Дополнительно данные отсортированы на предмет отсутствия данных о вилке заработной платы.\n",
        "#Для формирования данных о средней заработной плате мы сложили данные о нижней и верхней вилке зарплаты\n",
        "#и поделили их на два. При этом отсутствующие данные в одном из полей с вилкой зарплаты\n",
        "#мы заменили данными из второго поля с зарплатной вилкой. Далее мы вычислили среднее от полученного значения.\n",
        "query_6_6 = f'''select \n",
        "                    experience,\n",
        "                    round(avg((coalesce(salary_from, salary_to)+coalesce(salary_to, salary_from)) / 2)) as avg_salary\n",
        "                from\n",
        "                    public.vacancies\n",
        "                where\n",
        "                    (lower(name) like '%data scientist%'\n",
        "                    or lower(name) like '%data science%'\n",
        "                    or lower(name) like '%исследователь данных%'\n",
        "                    or name like '%ML%'\n",
        "                    or lower(name) like '%machine learning%'\n",
        "                    or lower(name) like '%машинн%обучен%')\n",
        "                    and name not like '%HTML%'\n",
        "                    and (salary_from is not null\n",
        "                    or salary_to is not null)\n",
        "                group by\n",
        "                    experience\n",
        "'''"
      ]
    },
    {
      "cell_type": "code",
      "execution_count": 86,
      "id": "aRIJ0mZEwU1_",
      "metadata": {
        "id": "aRIJ0mZEwU1_"
      },
      "outputs": [
        {
          "name": "stderr",
          "output_type": "stream",
          "text": [
            "C:\\Users\\Люля\\AppData\\Local\\Temp\\ipykernel_7144\\1796641676.py:2: UserWarning: pandas only supports SQLAlchemy connectable (engine/connection) or database string URI or sqlite3 DBAPI2 connection. Other DBAPI2 objects are not tested. Please consider using SQLAlchemy.\n",
            "  pd.read_sql_query(query_6_6, connection)\n"
          ]
        },
        {
          "data": {
            "text/html": [
              "<div>\n",
              "<style scoped>\n",
              "    .dataframe tbody tr th:only-of-type {\n",
              "        vertical-align: middle;\n",
              "    }\n",
              "\n",
              "    .dataframe tbody tr th {\n",
              "        vertical-align: top;\n",
              "    }\n",
              "\n",
              "    .dataframe thead th {\n",
              "        text-align: right;\n",
              "    }\n",
              "</style>\n",
              "<table border=\"1\" class=\"dataframe\">\n",
              "  <thead>\n",
              "    <tr style=\"text-align: right;\">\n",
              "      <th></th>\n",
              "      <th>experience</th>\n",
              "      <th>avg_salary</th>\n",
              "    </tr>\n",
              "  </thead>\n",
              "  <tbody>\n",
              "    <tr>\n",
              "      <th>0</th>\n",
              "      <td>Нет опыта</td>\n",
              "      <td>74643.0</td>\n",
              "    </tr>\n",
              "    <tr>\n",
              "      <th>1</th>\n",
              "      <td>От 1 года до 3 лет</td>\n",
              "      <td>139675.0</td>\n",
              "    </tr>\n",
              "    <tr>\n",
              "      <th>2</th>\n",
              "      <td>От 3 до 6 лет</td>\n",
              "      <td>243115.0</td>\n",
              "    </tr>\n",
              "  </tbody>\n",
              "</table>\n",
              "</div>"
            ],
            "text/plain": [
              "           experience  avg_salary\n",
              "0           Нет опыта     74643.0\n",
              "1  От 1 года до 3 лет    139675.0\n",
              "2       От 3 до 6 лет    243115.0"
            ]
          },
          "execution_count": 86,
          "metadata": {},
          "output_type": "execute_result"
        }
      ],
      "source": [
        "pd.read_sql_query(query_6_6, connection)"
      ]
    },
    {
      "cell_type": "markdown",
      "id": "6a7892b4-4113-4746-adce-18aa2844f18e",
      "metadata": {
        "id": "6a7892b4-4113-4746-adce-18aa2844f18e"
      },
      "source": [
        "***"
      ]
    },
    {
      "cell_type": "code",
      "execution_count": 79,
      "id": "838ccb88",
      "metadata": {},
      "outputs": [],
      "source": [
        "#Составлен запрос, показывающий среднее число навыков для всех вакансий в базе данных.\n",
        "#Это позволит нам понять, насколько число навыков для вакансий data science соответствует среднему значению.\n",
        "#Для вычисления среднего числа навыков мы рассчитали общую длинну строки с указанием навыков\n",
        "#и вычли из нее длинну строки, в которой убрали разделение между навыками, и чтобы учесть\n",
        "#первый навык в списке прибавили один. От полученного значения мы вычислили среднее.\n",
        "query_6_add_1 = f'''select \n",
        "                      round(avg(length(key_skills) - length(replace(key_skills, CHR(9), '')) +1), 2) as avg_skills_number\n",
        "                    from\n",
        "                      public.vacancies\n",
        "'''"
      ]
    },
    {
      "cell_type": "code",
      "execution_count": 80,
      "id": "94b9240d",
      "metadata": {},
      "outputs": [
        {
          "name": "stderr",
          "output_type": "stream",
          "text": [
            "C:\\Users\\Люля\\AppData\\Local\\Temp\\ipykernel_7144\\2867181592.py:1: UserWarning: pandas only supports SQLAlchemy connectable (engine/connection) or database string URI or sqlite3 DBAPI2 connection. Other DBAPI2 objects are not tested. Please consider using SQLAlchemy.\n",
            "  pd.read_sql_query(query_6_add_1, connection)\n"
          ]
        },
        {
          "data": {
            "text/html": [
              "<div>\n",
              "<style scoped>\n",
              "    .dataframe tbody tr th:only-of-type {\n",
              "        vertical-align: middle;\n",
              "    }\n",
              "\n",
              "    .dataframe tbody tr th {\n",
              "        vertical-align: top;\n",
              "    }\n",
              "\n",
              "    .dataframe thead th {\n",
              "        text-align: right;\n",
              "    }\n",
              "</style>\n",
              "<table border=\"1\" class=\"dataframe\">\n",
              "  <thead>\n",
              "    <tr style=\"text-align: right;\">\n",
              "      <th></th>\n",
              "      <th>avg_skills_number</th>\n",
              "    </tr>\n",
              "  </thead>\n",
              "  <tbody>\n",
              "    <tr>\n",
              "      <th>0</th>\n",
              "      <td>6.37</td>\n",
              "    </tr>\n",
              "  </tbody>\n",
              "</table>\n",
              "</div>"
            ],
            "text/plain": [
              "   avg_skills_number\n",
              "0               6.37"
            ]
          },
          "execution_count": 80,
          "metadata": {},
          "output_type": "execute_result"
        }
      ],
      "source": [
        "pd.read_sql_query(query_6_add_1, connection)"
      ]
    },
    {
      "cell_type": "code",
      "execution_count": 95,
      "id": "d7cb97be",
      "metadata": {},
      "outputs": [],
      "source": [
        "#Составлен запрос, показывающий общую разбивку вакансий Data Science по требуемому опыту работу.\n",
        "#Запрос позволит понять, какое количество вакансий с различным опытом, не содержат указаний на уровень зарплаты.\n",
        "#Данные по вакансиям отфильрованы на предмет наличия в их названиях\n",
        "#сочетаний 'data scientist','data science','исследователь данных', 'ML',\n",
        "#'machine learning','HTML', что свидетельствует о том, что они относятся к data science.\n",
        "#Дополнительно произведена филтрация на предмет отсутствия данных о зарплате. Данные сгруппированы по опыту работы.\n",
        "query_6_add_2 = f'''select \n",
        "                        experience,\n",
        "                        count(id)\n",
        "                    from\n",
        "                        public.vacancies\n",
        "                    where\n",
        "                        (lower(name) like '%data scientist%'\n",
        "                        or lower(name) like '%data science%'\n",
        "                        or lower(name) like '%исследователь данных%'\n",
        "                        or name like '%ML%'\n",
        "                        or lower(name) like '%machine learning%'\n",
        "                        or lower(name) like '%машинн%обучен%')\n",
        "                        and name not like '%HTML%'\n",
        "                        and (salary_from is null\n",
        "                        or salary_to is null)\n",
        "                    group by\n",
        "                        experience\n",
        "'''"
      ]
    },
    {
      "cell_type": "code",
      "execution_count": 96,
      "id": "855eba83",
      "metadata": {},
      "outputs": [
        {
          "name": "stderr",
          "output_type": "stream",
          "text": [
            "C:\\Users\\Люля\\AppData\\Local\\Temp\\ipykernel_7144\\3229580973.py:1: UserWarning: pandas only supports SQLAlchemy connectable (engine/connection) or database string URI or sqlite3 DBAPI2 connection. Other DBAPI2 objects are not tested. Please consider using SQLAlchemy.\n",
            "  pd.read_sql_query(query_6_add_2, connection)\n"
          ]
        },
        {
          "data": {
            "text/html": [
              "<div>\n",
              "<style scoped>\n",
              "    .dataframe tbody tr th:only-of-type {\n",
              "        vertical-align: middle;\n",
              "    }\n",
              "\n",
              "    .dataframe tbody tr th {\n",
              "        vertical-align: top;\n",
              "    }\n",
              "\n",
              "    .dataframe thead th {\n",
              "        text-align: right;\n",
              "    }\n",
              "</style>\n",
              "<table border=\"1\" class=\"dataframe\">\n",
              "  <thead>\n",
              "    <tr style=\"text-align: right;\">\n",
              "      <th></th>\n",
              "      <th>experience</th>\n",
              "      <th>count</th>\n",
              "    </tr>\n",
              "  </thead>\n",
              "  <tbody>\n",
              "    <tr>\n",
              "      <th>0</th>\n",
              "      <td>Более 6 лет</td>\n",
              "      <td>34</td>\n",
              "    </tr>\n",
              "    <tr>\n",
              "      <th>1</th>\n",
              "      <td>Нет опыта</td>\n",
              "      <td>25</td>\n",
              "    </tr>\n",
              "    <tr>\n",
              "      <th>2</th>\n",
              "      <td>От 1 года до 3 лет</td>\n",
              "      <td>209</td>\n",
              "    </tr>\n",
              "    <tr>\n",
              "      <th>3</th>\n",
              "      <td>От 3 до 6 лет</td>\n",
              "      <td>184</td>\n",
              "    </tr>\n",
              "  </tbody>\n",
              "</table>\n",
              "</div>"
            ],
            "text/plain": [
              "           experience  count\n",
              "0         Более 6 лет     34\n",
              "1           Нет опыта     25\n",
              "2  От 1 года до 3 лет    209\n",
              "3       От 3 до 6 лет    184"
            ]
          },
          "execution_count": 96,
          "metadata": {},
          "output_type": "execute_result"
        }
      ],
      "source": [
        "pd.read_sql_query(query_6_add_2, connection)"
      ]
    },
    {
      "cell_type": "code",
      "execution_count": 39,
      "id": "fbb797e8",
      "metadata": {},
      "outputs": [],
      "source": [
        "#Составлен запрос, показывающий общее количество вакансий Data Science, \n",
        "#у которых не заполнены данные о ключевых навыках.\n",
        "#Запрос позволит понять, какое количество вакансий с различным опытом, не содержат указаний на уровень зарплаты.\n",
        "#Данные по вакансиям отфильрованы на предмет наличия в их названиях\n",
        "#сочетаний 'data scientist','data science','исследователь данных', 'ML',\n",
        "#'machine learning','HTML', что свидетельствует о том, что они относятся к data science.\n",
        "#Дополнительно произведена филтрация на предмет отсутствия данных о навыках.\n",
        "query_6_add_3 = f'''select \n",
        "                        count(id) as vacancies_without_skills\n",
        "                    from\n",
        "                        public.vacancies\n",
        "                    where\n",
        "                        (lower(name) like '%data scientist%'\n",
        "                        or lower(name) like '%data science%'\n",
        "                        or lower(name) like '%исследователь данных%'\n",
        "                        or name like '%ML%'\n",
        "                        or lower(name) like '%machine learning%'\n",
        "                        or lower(name) like '%машинн%обучен%')\n",
        "                        and name not like '%HTML%'\n",
        "                        and key_skills is null\n",
        "'''"
      ]
    },
    {
      "cell_type": "code",
      "execution_count": 40,
      "id": "0434749e",
      "metadata": {},
      "outputs": [
        {
          "name": "stderr",
          "output_type": "stream",
          "text": [
            "C:\\Users\\Люля\\AppData\\Local\\Temp\\ipykernel_260\\2005020700.py:1: UserWarning: pandas only supports SQLAlchemy connectable (engine/connection) or database string URI or sqlite3 DBAPI2 connection. Other DBAPI2 objects are not tested. Please consider using SQLAlchemy.\n",
            "  pd.read_sql_query(query_6_add_3, connection)\n"
          ]
        },
        {
          "data": {
            "text/html": [
              "<div>\n",
              "<style scoped>\n",
              "    .dataframe tbody tr th:only-of-type {\n",
              "        vertical-align: middle;\n",
              "    }\n",
              "\n",
              "    .dataframe tbody tr th {\n",
              "        vertical-align: top;\n",
              "    }\n",
              "\n",
              "    .dataframe thead th {\n",
              "        text-align: right;\n",
              "    }\n",
              "</style>\n",
              "<table border=\"1\" class=\"dataframe\">\n",
              "  <thead>\n",
              "    <tr style=\"text-align: right;\">\n",
              "      <th></th>\n",
              "      <th>vacancies_without_skills</th>\n",
              "    </tr>\n",
              "  </thead>\n",
              "  <tbody>\n",
              "    <tr>\n",
              "      <th>0</th>\n",
              "      <td>49</td>\n",
              "    </tr>\n",
              "  </tbody>\n",
              "</table>\n",
              "</div>"
            ],
            "text/plain": [
              "   vacancies_without_skills\n",
              "0                        49"
            ]
          },
          "execution_count": 40,
          "metadata": {},
          "output_type": "execute_result"
        }
      ],
      "source": [
        "pd.read_sql_query(query_6_add_3, connection)"
      ]
    },
    {
      "cell_type": "code",
      "execution_count": 43,
      "id": "0854d2f1",
      "metadata": {},
      "outputs": [],
      "source": [
        "#Составлен запрос, показывающий общее количество вакансий Data Science, \n",
        "#у конкретных работодателей. Для составления запроса к таблице с вакансиями\n",
        "#присоединена таблица с работодателями. Данные по вакансиям отфильрованы \n",
        "#на предмет наличия в их названиях сочетаний 'data scientist',\n",
        "#'data science','исследователь данных', 'ML','machine learning','HTML', \n",
        "#что свидетельствует о том, что они относятся к data science.\n",
        "#Данные сгруппированы по названию работодателей.\n",
        "query_6_add_4 = f'''select \n",
        "                        e.name as employer,\n",
        "                        count(v.id) as data_vacancies\n",
        "                    from\n",
        "                        public.vacancies as v\n",
        "                    join\n",
        "                        public.employers as e on e.id = v.employer_id\n",
        "                    where\n",
        "                        (lower(v.name) like '%data scientist%'\n",
        "                        or lower(v.name) like '%data science%'\n",
        "                        or lower(v.name) like '%исследователь данных%'\n",
        "                        or v.name like '%ML%'\n",
        "                        or lower(v.name) like '%machine learning%'\n",
        "                        or lower(v.name) like '%машинн%обучен%')\n",
        "                        and v.name not like '%HTML%'\n",
        "                    group by\n",
        "                        e.name\n",
        "                    order by\n",
        "                        count(v.id) desc\n",
        "'''"
      ]
    },
    {
      "cell_type": "code",
      "execution_count": 44,
      "id": "365e5d5d",
      "metadata": {},
      "outputs": [
        {
          "name": "stderr",
          "output_type": "stream",
          "text": [
            "C:\\Users\\Люля\\AppData\\Local\\Temp\\ipykernel_260\\2106468670.py:1: UserWarning: pandas only supports SQLAlchemy connectable (engine/connection) or database string URI or sqlite3 DBAPI2 connection. Other DBAPI2 objects are not tested. Please consider using SQLAlchemy.\n",
            "  pd.read_sql_query(query_6_add_4, connection)\n"
          ]
        },
        {
          "data": {
            "text/html": [
              "<div>\n",
              "<style scoped>\n",
              "    .dataframe tbody tr th:only-of-type {\n",
              "        vertical-align: middle;\n",
              "    }\n",
              "\n",
              "    .dataframe tbody tr th {\n",
              "        vertical-align: top;\n",
              "    }\n",
              "\n",
              "    .dataframe thead th {\n",
              "        text-align: right;\n",
              "    }\n",
              "</style>\n",
              "<table border=\"1\" class=\"dataframe\">\n",
              "  <thead>\n",
              "    <tr style=\"text-align: right;\">\n",
              "      <th></th>\n",
              "      <th>employer</th>\n",
              "      <th>data_vacancies</th>\n",
              "    </tr>\n",
              "  </thead>\n",
              "  <tbody>\n",
              "    <tr>\n",
              "      <th>0</th>\n",
              "      <td>СБЕР</td>\n",
              "      <td>37</td>\n",
              "    </tr>\n",
              "    <tr>\n",
              "      <th>1</th>\n",
              "      <td>Bell Integrator</td>\n",
              "      <td>25</td>\n",
              "    </tr>\n",
              "    <tr>\n",
              "      <th>2</th>\n",
              "      <td>Банк ВТБ (ПАО)</td>\n",
              "      <td>18</td>\n",
              "    </tr>\n",
              "    <tr>\n",
              "      <th>3</th>\n",
              "      <td>VK</td>\n",
              "      <td>15</td>\n",
              "    </tr>\n",
              "    <tr>\n",
              "      <th>4</th>\n",
              "      <td>Positive Technologies</td>\n",
              "      <td>11</td>\n",
              "    </tr>\n",
              "    <tr>\n",
              "      <th>...</th>\n",
              "      <td>...</td>\n",
              "      <td>...</td>\n",
              "    </tr>\n",
              "    <tr>\n",
              "      <th>220</th>\n",
              "      <td>Иллекс</td>\n",
              "      <td>1</td>\n",
              "    </tr>\n",
              "    <tr>\n",
              "      <th>221</th>\n",
              "      <td>ИНВИТРО</td>\n",
              "      <td>1</td>\n",
              "    </tr>\n",
              "    <tr>\n",
              "      <th>222</th>\n",
              "      <td>Институт искусственного интеллекта AIRI</td>\n",
              "      <td>1</td>\n",
              "    </tr>\n",
              "    <tr>\n",
              "      <th>223</th>\n",
              "      <td>Интеллектуальные решения</td>\n",
              "      <td>1</td>\n",
              "    </tr>\n",
              "    <tr>\n",
              "      <th>224</th>\n",
              "      <td>Инфосистемы Джет</td>\n",
              "      <td>1</td>\n",
              "    </tr>\n",
              "  </tbody>\n",
              "</table>\n",
              "<p>225 rows × 2 columns</p>\n",
              "</div>"
            ],
            "text/plain": [
              "                                    employer  data_vacancies\n",
              "0                                       СБЕР              37\n",
              "1                            Bell Integrator              25\n",
              "2                             Банк ВТБ (ПАО)              18\n",
              "3                                         VK              15\n",
              "4                      Positive Technologies              11\n",
              "..                                       ...             ...\n",
              "220                                   Иллекс               1\n",
              "221                                  ИНВИТРО               1\n",
              "222  Институт искусственного интеллекта AIRI               1\n",
              "223                 Интеллектуальные решения               1\n",
              "224                         Инфосистемы Джет               1\n",
              "\n",
              "[225 rows x 2 columns]"
            ]
          },
          "execution_count": 44,
          "metadata": {},
          "output_type": "execute_result"
        }
      ],
      "source": [
        "pd.read_sql_query(query_6_add_4, connection)"
      ]
    },
    {
      "cell_type": "code",
      "execution_count": 45,
      "id": "3a4cf763",
      "metadata": {},
      "outputs": [],
      "source": [
        "#Составлен запрос, показывающий общее количество вакансий Data Science, \n",
        "#по конкретным регионам. Для составления запроса к таблице с вакансиями\n",
        "#присоединена таблица с регионами. Данные по вакансиям отфильрованы \n",
        "#на предмет наличия в их названиях сочетаний 'data scientist',\n",
        "#'data science','исследователь данных', 'ML','machine learning','HTML', \n",
        "#что свидетельствует о том, что они относятся к data science.\n",
        "#Данные сгруппированы по названию региона.\n",
        "query_6_add_5 = f'''select \n",
        "                        a.name as area,\n",
        "                        count(v.id) as data_vacancies\n",
        "                    from\n",
        "                        public.vacancies as v\n",
        "                    join\n",
        "                        public.areas as a on a.id = v.area_id\n",
        "                    where\n",
        "                        (lower(v.name) like '%data scientist%'\n",
        "                        or lower(v.name) like '%data science%'\n",
        "                        or lower(v.name) like '%исследователь данных%'\n",
        "                        or v.name like '%ML%'\n",
        "                        or lower(v.name) like '%machine learning%'\n",
        "                        or lower(v.name) like '%машинн%обучен%')\n",
        "                        and v.name not like '%HTML%'\n",
        "                    group by\n",
        "                        a.name\n",
        "                    order by\n",
        "                        count(v.id) desc\n",
        "'''"
      ]
    },
    {
      "cell_type": "code",
      "execution_count": 46,
      "id": "4fc49a55",
      "metadata": {},
      "outputs": [
        {
          "name": "stderr",
          "output_type": "stream",
          "text": [
            "C:\\Users\\Люля\\AppData\\Local\\Temp\\ipykernel_260\\4057533915.py:1: UserWarning: pandas only supports SQLAlchemy connectable (engine/connection) or database string URI or sqlite3 DBAPI2 connection. Other DBAPI2 objects are not tested. Please consider using SQLAlchemy.\n",
            "  pd.read_sql_query(query_6_add_5, connection)\n"
          ]
        },
        {
          "data": {
            "text/html": [
              "<div>\n",
              "<style scoped>\n",
              "    .dataframe tbody tr th:only-of-type {\n",
              "        vertical-align: middle;\n",
              "    }\n",
              "\n",
              "    .dataframe tbody tr th {\n",
              "        vertical-align: top;\n",
              "    }\n",
              "\n",
              "    .dataframe thead th {\n",
              "        text-align: right;\n",
              "    }\n",
              "</style>\n",
              "<table border=\"1\" class=\"dataframe\">\n",
              "  <thead>\n",
              "    <tr style=\"text-align: right;\">\n",
              "      <th></th>\n",
              "      <th>area</th>\n",
              "      <th>data_vacancies</th>\n",
              "    </tr>\n",
              "  </thead>\n",
              "  <tbody>\n",
              "    <tr>\n",
              "      <th>0</th>\n",
              "      <td>Москва</td>\n",
              "      <td>217</td>\n",
              "    </tr>\n",
              "    <tr>\n",
              "      <th>1</th>\n",
              "      <td>Санкт-Петербург</td>\n",
              "      <td>64</td>\n",
              "    </tr>\n",
              "    <tr>\n",
              "      <th>2</th>\n",
              "      <td>Новосибирск</td>\n",
              "      <td>23</td>\n",
              "    </tr>\n",
              "    <tr>\n",
              "      <th>3</th>\n",
              "      <td>Нижний Новгород</td>\n",
              "      <td>20</td>\n",
              "    </tr>\n",
              "    <tr>\n",
              "      <th>4</th>\n",
              "      <td>Казань</td>\n",
              "      <td>16</td>\n",
              "    </tr>\n",
              "    <tr>\n",
              "      <th>5</th>\n",
              "      <td>Алматы</td>\n",
              "      <td>16</td>\n",
              "    </tr>\n",
              "    <tr>\n",
              "      <th>6</th>\n",
              "      <td>Минск</td>\n",
              "      <td>9</td>\n",
              "    </tr>\n",
              "    <tr>\n",
              "      <th>7</th>\n",
              "      <td>Томск</td>\n",
              "      <td>8</td>\n",
              "    </tr>\n",
              "    <tr>\n",
              "      <th>8</th>\n",
              "      <td>Екатеринбург</td>\n",
              "      <td>7</td>\n",
              "    </tr>\n",
              "    <tr>\n",
              "      <th>9</th>\n",
              "      <td>Краснодар</td>\n",
              "      <td>6</td>\n",
              "    </tr>\n",
              "    <tr>\n",
              "      <th>10</th>\n",
              "      <td>Ростов-на-Дону</td>\n",
              "      <td>6</td>\n",
              "    </tr>\n",
              "    <tr>\n",
              "      <th>11</th>\n",
              "      <td>Армения</td>\n",
              "      <td>6</td>\n",
              "    </tr>\n",
              "    <tr>\n",
              "      <th>12</th>\n",
              "      <td>Нур-Султан</td>\n",
              "      <td>6</td>\n",
              "    </tr>\n",
              "    <tr>\n",
              "      <th>13</th>\n",
              "      <td>Самара</td>\n",
              "      <td>5</td>\n",
              "    </tr>\n",
              "    <tr>\n",
              "      <th>14</th>\n",
              "      <td>Пермь</td>\n",
              "      <td>5</td>\n",
              "    </tr>\n",
              "    <tr>\n",
              "      <th>15</th>\n",
              "      <td>Кипр</td>\n",
              "      <td>5</td>\n",
              "    </tr>\n",
              "    <tr>\n",
              "      <th>16</th>\n",
              "      <td>Рязань</td>\n",
              "      <td>4</td>\n",
              "    </tr>\n",
              "    <tr>\n",
              "      <th>17</th>\n",
              "      <td>Ташкент</td>\n",
              "      <td>4</td>\n",
              "    </tr>\n",
              "    <tr>\n",
              "      <th>18</th>\n",
              "      <td>Иннополис</td>\n",
              "      <td>3</td>\n",
              "    </tr>\n",
              "    <tr>\n",
              "      <th>19</th>\n",
              "      <td>Тбилиси</td>\n",
              "      <td>3</td>\n",
              "    </tr>\n",
              "    <tr>\n",
              "      <th>20</th>\n",
              "      <td>Владивосток</td>\n",
              "      <td>3</td>\n",
              "    </tr>\n",
              "    <tr>\n",
              "      <th>21</th>\n",
              "      <td>Сербия</td>\n",
              "      <td>3</td>\n",
              "    </tr>\n",
              "    <tr>\n",
              "      <th>22</th>\n",
              "      <td>Омск</td>\n",
              "      <td>3</td>\n",
              "    </tr>\n",
              "    <tr>\n",
              "      <th>23</th>\n",
              "      <td>Уфа</td>\n",
              "      <td>2</td>\n",
              "    </tr>\n",
              "    <tr>\n",
              "      <th>24</th>\n",
              "      <td>Израиль</td>\n",
              "      <td>2</td>\n",
              "    </tr>\n",
              "    <tr>\n",
              "      <th>25</th>\n",
              "      <td>Турция</td>\n",
              "      <td>2</td>\n",
              "    </tr>\n",
              "    <tr>\n",
              "      <th>26</th>\n",
              "      <td>Пенза</td>\n",
              "      <td>2</td>\n",
              "    </tr>\n",
              "    <tr>\n",
              "      <th>27</th>\n",
              "      <td>Киров (Кировская область)</td>\n",
              "      <td>2</td>\n",
              "    </tr>\n",
              "    <tr>\n",
              "      <th>28</th>\n",
              "      <td>Чехия</td>\n",
              "      <td>2</td>\n",
              "    </tr>\n",
              "    <tr>\n",
              "      <th>29</th>\n",
              "      <td>Баку</td>\n",
              "      <td>2</td>\n",
              "    </tr>\n",
              "    <tr>\n",
              "      <th>30</th>\n",
              "      <td>Литва</td>\n",
              "      <td>2</td>\n",
              "    </tr>\n",
              "    <tr>\n",
              "      <th>31</th>\n",
              "      <td>Воронеж</td>\n",
              "      <td>2</td>\n",
              "    </tr>\n",
              "    <tr>\n",
              "      <th>32</th>\n",
              "      <td>Набережные Челны</td>\n",
              "      <td>1</td>\n",
              "    </tr>\n",
              "    <tr>\n",
              "      <th>33</th>\n",
              "      <td>Барнаул</td>\n",
              "      <td>1</td>\n",
              "    </tr>\n",
              "    <tr>\n",
              "      <th>34</th>\n",
              "      <td>Батуми</td>\n",
              "      <td>1</td>\n",
              "    </tr>\n",
              "    <tr>\n",
              "      <th>35</th>\n",
              "      <td>Белгород</td>\n",
              "      <td>1</td>\n",
              "    </tr>\n",
              "    <tr>\n",
              "      <th>36</th>\n",
              "      <td>Бишкек</td>\n",
              "      <td>1</td>\n",
              "    </tr>\n",
              "    <tr>\n",
              "      <th>37</th>\n",
              "      <td>Брянск</td>\n",
              "      <td>1</td>\n",
              "    </tr>\n",
              "    <tr>\n",
              "      <th>38</th>\n",
              "      <td>Волгоград</td>\n",
              "      <td>1</td>\n",
              "    </tr>\n",
              "    <tr>\n",
              "      <th>39</th>\n",
              "      <td>Зеленоград</td>\n",
              "      <td>1</td>\n",
              "    </tr>\n",
              "    <tr>\n",
              "      <th>40</th>\n",
              "      <td>Ижевск</td>\n",
              "      <td>1</td>\n",
              "    </tr>\n",
              "    <tr>\n",
              "      <th>41</th>\n",
              "      <td>Королев</td>\n",
              "      <td>1</td>\n",
              "    </tr>\n",
              "    <tr>\n",
              "      <th>42</th>\n",
              "      <td>Красноярск</td>\n",
              "      <td>1</td>\n",
              "    </tr>\n",
              "    <tr>\n",
              "      <th>43</th>\n",
              "      <td>Абхазия</td>\n",
              "      <td>1</td>\n",
              "    </tr>\n",
              "    <tr>\n",
              "      <th>44</th>\n",
              "      <td>Орел</td>\n",
              "      <td>1</td>\n",
              "    </tr>\n",
              "    <tr>\n",
              "      <th>45</th>\n",
              "      <td>Петрозаводск</td>\n",
              "      <td>1</td>\n",
              "    </tr>\n",
              "    <tr>\n",
              "      <th>46</th>\n",
              "      <td>Польша</td>\n",
              "      <td>1</td>\n",
              "    </tr>\n",
              "    <tr>\n",
              "      <th>47</th>\n",
              "      <td>Саратов</td>\n",
              "      <td>1</td>\n",
              "    </tr>\n",
              "    <tr>\n",
              "      <th>48</th>\n",
              "      <td>Тверь</td>\n",
              "      <td>1</td>\n",
              "    </tr>\n",
              "    <tr>\n",
              "      <th>49</th>\n",
              "      <td>Тюмень</td>\n",
              "      <td>1</td>\n",
              "    </tr>\n",
              "    <tr>\n",
              "      <th>50</th>\n",
              "      <td>Челябинск</td>\n",
              "      <td>1</td>\n",
              "    </tr>\n",
              "    <tr>\n",
              "      <th>51</th>\n",
              "      <td>Черногория</td>\n",
              "      <td>1</td>\n",
              "    </tr>\n",
              "  </tbody>\n",
              "</table>\n",
              "</div>"
            ],
            "text/plain": [
              "                         area  data_vacancies\n",
              "0                      Москва             217\n",
              "1             Санкт-Петербург              64\n",
              "2                 Новосибирск              23\n",
              "3             Нижний Новгород              20\n",
              "4                      Казань              16\n",
              "5                      Алматы              16\n",
              "6                       Минск               9\n",
              "7                       Томск               8\n",
              "8                Екатеринбург               7\n",
              "9                   Краснодар               6\n",
              "10             Ростов-на-Дону               6\n",
              "11                    Армения               6\n",
              "12                 Нур-Султан               6\n",
              "13                     Самара               5\n",
              "14                      Пермь               5\n",
              "15                       Кипр               5\n",
              "16                     Рязань               4\n",
              "17                    Ташкент               4\n",
              "18                  Иннополис               3\n",
              "19                    Тбилиси               3\n",
              "20                Владивосток               3\n",
              "21                     Сербия               3\n",
              "22                       Омск               3\n",
              "23                        Уфа               2\n",
              "24                    Израиль               2\n",
              "25                     Турция               2\n",
              "26                      Пенза               2\n",
              "27  Киров (Кировская область)               2\n",
              "28                      Чехия               2\n",
              "29                       Баку               2\n",
              "30                      Литва               2\n",
              "31                    Воронеж               2\n",
              "32           Набережные Челны               1\n",
              "33                    Барнаул               1\n",
              "34                     Батуми               1\n",
              "35                   Белгород               1\n",
              "36                     Бишкек               1\n",
              "37                     Брянск               1\n",
              "38                  Волгоград               1\n",
              "39                 Зеленоград               1\n",
              "40                     Ижевск               1\n",
              "41                    Королев               1\n",
              "42                 Красноярск               1\n",
              "43                    Абхазия               1\n",
              "44                       Орел               1\n",
              "45               Петрозаводск               1\n",
              "46                     Польша               1\n",
              "47                    Саратов               1\n",
              "48                      Тверь               1\n",
              "49                     Тюмень               1\n",
              "50                  Челябинск               1\n",
              "51                 Черногория               1"
            ]
          },
          "execution_count": 46,
          "metadata": {},
          "output_type": "execute_result"
        }
      ],
      "source": [
        "pd.read_sql_query(query_6_add_5, connection)"
      ]
    },
    {
      "cell_type": "code",
      "execution_count": null,
      "id": "UjLWUptVwY1o",
      "metadata": {
        "id": "UjLWUptVwY1o"
      },
      "outputs": [],
      "source": [
        "#Около 3,5% от общего числа вакансий имеют отношение к Data Science.\n",
        "#При этом вакансии уровня Junior составляют менее 0,5% от общего числа вакансий Data Science.\n",
        "#Такие навыки как Python и SQL/postgres указаны в описании менее 3% и 2%\n",
        "#от общего числа вакансий Data Science. При том, что среднее количество\n",
        "#ключевых навыков для вакансий Data Science в базе данных составляет 6.41, что\n",
        "#превышает аналогичный средний показатель для всех вакансий базы данных.\n",
        "#Ключевые навыки не указаны для 0,5% вакансий Data Science.\n",
        "#Расчитать средний показатель зарплаты возможно для небольшого числа вакансий,\n",
        "#поскольку для большинства вакансий показатель зарплаты не указан, для опытных специалистов (более 6 лет)\n",
        "#нет ни одной вакансии с показателям зарплаты.\n",
        "#При этом у крупнейших работодателей из базы вакансий таких как Яндекс, Ростелеком, Тинькофф\n",
        "#не представлено ни одной вакасий в области Data Science.\n",
        "#При этом данные по вакансиями распределены по разлинчым регионам. \n",
        "#Большинство вакансий представлено в Москве и Санкт-Петербурге."
      ]
    },
    {
      "cell_type": "markdown",
      "id": "c0ED6fh7wiBT",
      "metadata": {
        "id": "c0ED6fh7wiBT"
      },
      "source": [
        "# Общий вывод по проекту"
      ]
    },
    {
      "cell_type": "code",
      "execution_count": null,
      "id": "h9B3BL-wwj18",
      "metadata": {
        "id": "h9B3BL-wwj18"
      },
      "outputs": [],
      "source": [
        "#По итогам проведенного анализа имеющихся данных, а также дополнительного анализа,\n",
        "#мне кажется, что имеющиеся данные не совсем отвечают поставленной задаче.\n",
        "#База данных содержит много пропусков и лишней информации, не имеющей отношения к вакансиям Data Science.\n",
        "#Кроме того, в базе данных представлено небольшое число вакансий Data Science.\n",
        "#Имеющаяся информация в отношении данных вакансий неполная: отсутствуют данные по заработной плате,\n",
        "#информация о ключевых навыках не всегда содержит навыки, характерные для Data Science.\n",
        "#Прежде чем переходить к обучению модели рекомендуется провести очистку имеющихся данных.\n",
        "#а также при наличии такой возможности провести работу с коллегами, ведущими базу данных, на предмет получения дополнительной\n",
        "#информации по подобным вакансиям, а также дополнениями ее вакансиями от крупнейших работодателей."
      ]
    }
  ],
  "metadata": {
    "colab": {
      "collapsed_sections": [
        "8d62a9f3-f64e-4fe7-bdac-c4dffa16155e"
      ],
      "provenance": []
    },
    "kernelspec": {
      "display_name": "Python 3.10.7 64-bit",
      "language": "python",
      "name": "python3"
    },
    "language_info": {
      "codemirror_mode": {
        "name": "ipython",
        "version": 3
      },
      "file_extension": ".py",
      "mimetype": "text/x-python",
      "name": "python",
      "nbconvert_exporter": "python",
      "pygments_lexer": "ipython3",
      "version": "3.10.7"
    },
    "vscode": {
      "interpreter": {
        "hash": "77bd431c9b4a4ff43bc38abcc3713cdb0d8b6a7b0593dc6e53e7aa7d659cf357"
      }
    }
  },
  "nbformat": 4,
  "nbformat_minor": 5
}
